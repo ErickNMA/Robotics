{
 "cells": [
  {
   "attachments": {},
   "cell_type": "markdown",
   "metadata": {},
   "source": [
    "# Modelo Cinemático Direto"
   ]
  },
  {
   "cell_type": "code",
   "execution_count": 1,
   "metadata": {},
   "outputs": [],
   "source": [
    "from FKM import *"
   ]
  },
  {
   "attachments": {},
   "cell_type": "markdown",
   "metadata": {},
   "source": [
    "### Definição da Tabela de Denavit Hartenberg:"
   ]
  },
  {
   "cell_type": "code",
   "execution_count": 2,
   "metadata": {},
   "outputs": [],
   "source": [
    "puma = Robot((\n",
    "    [theta1, 13, 0, rad(-90)],\n",
    "    [theta2, d1, 8, 0],\n",
    "    [theta3+rad(90), 0, 0, rad(90)],\n",
    "    [theta4, 8, 0, rad(-90)],\n",
    "    [theta5-rad(90), 0, 0, rad(90)],\n",
    "    [theta6, d2, 0, 0]\n",
    "))"
   ]
  },
  {
   "cell_type": "code",
   "execution_count": 3,
   "metadata": {},
   "outputs": [
    {
     "data": {
      "text/latex": [
       "$\\displaystyle \\left[\\begin{matrix}- c_{6} \\left(- c_{1} c_{23} c_{5} + s_{5} \\left(c_{1} c_{4} s_{23} + s_{1} s_{4}\\right)\\right) - s_{6} \\left(- c_{1} s_{23} s_{4} + c_{4} s_{1}\\right) & - c_{6} \\left(- c_{1} s_{23} s_{4} + c_{4} s_{1}\\right) + s_{6} \\left(- c_{1} c_{23} c_{5} + s_{5} \\left(c_{1} c_{4} s_{23} + s_{1} s_{4}\\right)\\right) & c_{1} c_{23} s_{5} + c_{5} \\left(c_{1} c_{4} s_{23} + s_{1} s_{4}\\right) & 8 c_{1} c_{2} + 8 c_{1} c_{23} - d₁ s_{1} + d₂ \\left(c_{1} c_{23} s_{5} + c_{5} \\left(c_{1} c_{4} s_{23} + s_{1} s_{4}\\right)\\right)\\\\- c_{6} \\left(- c_{23} c_{5} s_{1} + s_{5} \\left(- c_{1} s_{4} + c_{4} s_{1} s_{23}\\right)\\right) + s_{6} \\left(c_{1} c_{4} + s_{1} s_{23} s_{4}\\right) & c_{6} \\left(c_{1} c_{4} + s_{1} s_{23} s_{4}\\right) + s_{6} \\left(- c_{23} c_{5} s_{1} + s_{5} \\left(- c_{1} s_{4} + c_{4} s_{1} s_{23}\\right)\\right) & c_{23} s_{1} s_{5} + c_{5} \\left(- c_{1} s_{4} + c_{4} s_{1} s_{23}\\right) & c_{1} d₁ + 8 c_{2} s_{1} + 8 c_{23} s_{1} + d₂ \\left(c_{23} s_{1} s_{5} + c_{5} \\left(- c_{1} s_{4} + c_{4} s_{1} s_{23}\\right)\\right)\\\\c_{23} s_{4} s_{6} - c_{6} \\left(c_{23} c_{4} s_{5} + c_{5} s_{23}\\right) & c_{23} c_{6} s_{4} + s_{6} \\left(c_{23} c_{4} s_{5} + c_{5} s_{23}\\right) & c_{23} c_{4} c_{5} - s_{23} s_{5} & - d₂ \\left(- c_{23} c_{4} c_{5} + s_{23} s_{5}\\right) - 8 s_{2} - 8 s_{23} + 13\\\\0 & 0 & 0 & 1\\end{matrix}\\right]$"
      ],
      "text/plain": [
       "⎡-c₆⋅(-c₁⋅c₂₃⋅c₅ + s₅⋅(c₁⋅c₄⋅s₂₃ + s₁⋅s₄)) - s₆⋅(-c₁⋅s₂₃⋅s₄ + c₄⋅s₁)  -c₆⋅(-c₁\n",
       "⎢                                                                             \n",
       "⎢-c₆⋅(-c₂₃⋅c₅⋅s₁ + s₅⋅(-c₁⋅s₄ + c₄⋅s₁⋅s₂₃)) + s₆⋅(c₁⋅c₄ + s₁⋅s₂₃⋅s₄)  c₆⋅(c₁⋅c\n",
       "⎢                                                                             \n",
       "⎢                c₂₃⋅s₄⋅s₆ - c₆⋅(c₂₃⋅c₄⋅s₅ + c₅⋅s₂₃)                          \n",
       "⎢                                                                             \n",
       "⎣                                 0                                           \n",
       "\n",
       "⋅s₂₃⋅s₄ + c₄⋅s₁) + s₆⋅(-c₁⋅c₂₃⋅c₅ + s₅⋅(c₁⋅c₄⋅s₂₃ + s₁⋅s₄))  c₁⋅c₂₃⋅s₅ + c₅⋅(c\n",
       "                                                                              \n",
       "₄ + s₁⋅s₂₃⋅s₄) + s₆⋅(-c₂₃⋅c₅⋅s₁ + s₅⋅(-c₁⋅s₄ + c₄⋅s₁⋅s₂₃))   c₂₃⋅s₁⋅s₅ + c₅⋅(-\n",
       "                                                                              \n",
       "        c₂₃⋅c₆⋅s₄ + s₆⋅(c₂₃⋅c₄⋅s₅ + c₅⋅s₂₃)                          c₂₃⋅c₄⋅c₅\n",
       "                                                                              \n",
       "                         0                                                    \n",
       "\n",
       "₁⋅c₄⋅s₂₃ + s₁⋅s₄)   8⋅c₁⋅c₂ + 8⋅c₁⋅c₂₃ - d₁⋅s₁ + d₂⋅(c₁⋅c₂₃⋅s₅ + c₅⋅(c₁⋅c₄⋅s₂₃\n",
       "                                                                              \n",
       "c₁⋅s₄ + c₄⋅s₁⋅s₂₃)  c₁⋅d₁ + 8⋅c₂⋅s₁ + 8⋅c₂₃⋅s₁ + d₂⋅(c₂₃⋅s₁⋅s₅ + c₅⋅(-c₁⋅s₄ + \n",
       "                                                                              \n",
       " - s₂₃⋅s₅                       -d₂⋅(-c₂₃⋅c₄⋅c₅ + s₂₃⋅s₅) - 8⋅s₂ - 8⋅s₂₃ + 13 \n",
       "                                                                              \n",
       "0                                                     1                       \n",
       "\n",
       " + s₁⋅s₄)) ⎤\n",
       "           ⎥\n",
       "c₄⋅s₁⋅s₂₃))⎥\n",
       "           ⎥\n",
       "           ⎥\n",
       "           ⎥\n",
       "           ⎦"
      ]
     },
     "execution_count": 3,
     "metadata": {},
     "output_type": "execute_result"
    }
   ],
   "source": [
    "H06 = puma.HTM(0, 6)\n",
    "\n",
    "H06"
   ]
  },
  {
   "cell_type": "code",
   "execution_count": 7,
   "metadata": {},
   "outputs": [
    {
     "data": {
      "text/latex": [
       "$\\displaystyle \\left[\\begin{matrix}8 c_{1} c_{2} + 8 c_{1} c_{23} - d₁ s_{1}\\\\c_{1} d₁ + 8 c_{2} s_{1} + 8 c_{23} s_{1}\\\\- d₂ \\left(- c_{23} c_{4} c_{5} + s_{23} s_{5}\\right) - d₂ \\left(c_{23} c_{4} c_{5} - s_{23} s_{5}\\right) - 8 s_{2} - 8 s_{23} + 13\\end{matrix}\\right]$"
      ],
      "text/plain": [
       "⎡                      8⋅c₁⋅c₂ + 8⋅c₁⋅c₂₃ - d₁⋅s₁                       ⎤\n",
       "⎢                                                                       ⎥\n",
       "⎢                      c₁⋅d₁ + 8⋅c₂⋅s₁ + 8⋅c₂₃⋅s₁                       ⎥\n",
       "⎢                                                                       ⎥\n",
       "⎣-d₂⋅(-c₂₃⋅c₄⋅c₅ + s₂₃⋅s₅) - d₂⋅(c₂₃⋅c₄⋅c₅ - s₂₃⋅s₅) - 8⋅s₂ - 8⋅s₂₃ + 13⎦"
      ]
     },
     "execution_count": 7,
     "metadata": {},
     "output_type": "execute_result"
    }
   ],
   "source": [
    "import numpy as np\n",
    "\n",
    "oc = H06[:3,3] - d2*H06[:3, 2]\n",
    "\n",
    "oc"
   ]
  },
  {
   "cell_type": "code",
   "execution_count": 8,
   "metadata": {},
   "outputs": [
    {
     "data": {
      "text/latex": [
       "$\\displaystyle \\left[\\begin{matrix}- c_{1} c_{4} s_{23} - s_{1} s_{4} & - c_{1} c_{23} & c_{1} s_{23} s_{4} - c_{4} s_{1} & 8 c_{1} c_{2} + 8 c_{1} c_{23} - d₁ s_{1}\\\\c_{1} s_{4} - c_{4} s_{1} s_{23} & - c_{23} s_{1} & c_{1} c_{4} + s_{1} s_{23} s_{4} & c_{1} d₁ + 8 c_{2} s_{1} + 8 c_{23} s_{1}\\\\- c_{23} c_{4} & s_{23} & c_{23} s_{4} & - 8 s_{2} - 8 s_{23} + 13\\\\0 & 0 & 0 & 1\\end{matrix}\\right]$"
      ],
      "text/plain": [
       "⎡-c₁⋅c₄⋅s₂₃ - s₁⋅s₄  -c₁⋅c₂₃  c₁⋅s₂₃⋅s₄ - c₄⋅s₁  8⋅c₁⋅c₂ + 8⋅c₁⋅c₂₃ - d₁⋅s₁⎤\n",
       "⎢                                                                          ⎥\n",
       "⎢c₁⋅s₄ - c₄⋅s₁⋅s₂₃   -c₂₃⋅s₁  c₁⋅c₄ + s₁⋅s₂₃⋅s₄  c₁⋅d₁ + 8⋅c₂⋅s₁ + 8⋅c₂₃⋅s₁⎥\n",
       "⎢                                                                          ⎥\n",
       "⎢     -c₂₃⋅c₄          s₂₃         c₂₃⋅s₄            -8⋅s₂ - 8⋅s₂₃ + 13    ⎥\n",
       "⎢                                                                          ⎥\n",
       "⎣        0              0             0                      1             ⎦"
      ]
     },
     "execution_count": 8,
     "metadata": {},
     "output_type": "execute_result"
    }
   ],
   "source": [
    "puma.HTM(0, 4)"
   ]
  },
  {
   "cell_type": "code",
   "execution_count": 11,
   "metadata": {},
   "outputs": [
    {
     "data": {
      "text/latex": [
       "$\\displaystyle \\left[\\begin{matrix}8 c_{1} c_{2} + 8 c_{1} c_{23} - d₁ s_{1}\\\\c_{1} d₁ + 8 c_{2} s_{1} + 8 c_{23} s_{1}\\\\- d₂ \\left(- c_{23} c_{4} c_{5} + s_{23} s_{5}\\right) - d₂ \\left(c_{23} c_{4} c_{5} - s_{23} s_{5}\\right) - 8 s_{2} - 8 s_{23} + 13\\end{matrix}\\right]$"
      ],
      "text/plain": [
       "⎡                      8⋅c₁⋅c₂ + 8⋅c₁⋅c₂₃ - d₁⋅s₁                       ⎤\n",
       "⎢                                                                       ⎥\n",
       "⎢                      c₁⋅d₁ + 8⋅c₂⋅s₁ + 8⋅c₂₃⋅s₁                       ⎥\n",
       "⎢                                                                       ⎥\n",
       "⎣-d₂⋅(-c₂₃⋅c₄⋅c₅ + s₂₃⋅s₅) - d₂⋅(c₂₃⋅c₄⋅c₅ - s₂₃⋅s₅) - 8⋅s₂ - 8⋅s₂₃ + 13⎦"
      ]
     },
     "execution_count": 11,
     "metadata": {},
     "output_type": "execute_result"
    }
   ],
   "source": [
    "ocnew = H06[:3, 3] - d2*H06[:3, 2]\n",
    "\n",
    "ocnew"
   ]
  }
 ],
 "metadata": {
  "kernelspec": {
   "display_name": "Python 3",
   "language": "python",
   "name": "python3"
  },
  "language_info": {
   "codemirror_mode": {
    "name": "ipython",
    "version": 3
   },
   "file_extension": ".py",
   "mimetype": "text/x-python",
   "name": "python",
   "nbconvert_exporter": "python",
   "pygments_lexer": "ipython3",
   "version": "3.11.1"
  },
  "orig_nbformat": 4
 },
 "nbformat": 4,
 "nbformat_minor": 2
}
