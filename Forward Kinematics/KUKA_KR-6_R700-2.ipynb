{
 "cells": [
  {
   "attachments": {},
   "cell_type": "markdown",
   "metadata": {},
   "source": [
    "# Exemplos de uso da biblioteca:"
   ]
  },
  {
   "cell_type": "code",
   "execution_count": 1,
   "metadata": {},
   "outputs": [],
   "source": [
    "from FKM import *"
   ]
  },
  {
   "attachments": {},
   "cell_type": "markdown",
   "metadata": {},
   "source": [
    "### KUKA KR 6 R700-2:"
   ]
  },
  {
   "cell_type": "code",
   "execution_count": 2,
   "metadata": {},
   "outputs": [
    {
     "data": {
      "text/latex": [
       "$\\displaystyle \\left[\\begin{matrix}- c_{12} s_{34} s_{6} - c_{6} \\left(- c_{12} c_{34} c_{5} + s_{12} s_{5}\\right) & - c_{12} c_{34} s_{5} - c_{5} s_{12} & - c_{12} c_{6} s_{34} + s_{6} \\left(- c_{12} c_{34} c_{5} + s_{12} s_{5}\\right) & a₂ c_{12} + a₃ c_{12} c_{3} + a₄ c_{12} c_{34} + d₄ s_{12} + d₆ \\left(c_{12} c_{34} s_{5} + c_{5} s_{12}\\right)\\\\c_{6} \\left(c_{12} s_{5} + c_{34} c_{5} s_{12}\\right) - s_{12} s_{34} s_{6} & c_{12} c_{5} - c_{34} s_{12} s_{5} & - c_{6} s_{12} s_{34} - s_{6} \\left(c_{12} s_{5} + c_{34} c_{5} s_{12}\\right) & a₂ s_{12} + a₃ c_{3} s_{12} + a₄ c_{34} s_{12} - c_{12} d₄ + d₆ \\left(- c_{12} c_{5} + c_{34} s_{12} s_{5}\\right)\\\\c_{34} s_{6} + c_{5} c_{6} s_{34} & - s_{34} s_{5} & c_{34} c_{6} - c_{5} s_{34} s_{6} & a₃ s_{3} + a₄ s_{34} + d₆ s_{34} s_{5} + 425\\\\0 & 0 & 0 & 1\\end{matrix}\\right]$"
      ],
      "text/plain": [
       "⎡-c₁₂⋅s₃₄⋅s₆ - c₆⋅(-c₁₂⋅c₃₄⋅c₅ + s₁₂⋅s₅)  -c₁₂⋅c₃₄⋅s₅ - c₅⋅s₁₂  -c₁₂⋅c₆⋅s₃₄ + \n",
       "⎢                                                                             \n",
       "⎢ c₆⋅(c₁₂⋅s₅ + c₃₄⋅c₅⋅s₁₂) - s₁₂⋅s₃₄⋅s₆   c₁₂⋅c₅ - c₃₄⋅s₁₂⋅s₅   -c₆⋅s₁₂⋅s₃₄ - \n",
       "⎢                                                                             \n",
       "⎢          c₃₄⋅s₆ + c₅⋅c₆⋅s₃₄                   -s₃₄⋅s₅                   c₃₄⋅\n",
       "⎢                                                                             \n",
       "⎣                   0                              0                          \n",
       "\n",
       "s₆⋅(-c₁₂⋅c₃₄⋅c₅ + s₁₂⋅s₅)  a₂⋅c₁₂ + a₃⋅c₁₂⋅c₃ + a₄⋅c₁₂⋅c₃₄ + d₄⋅s₁₂ + d₆⋅(c₁₂⋅\n",
       "                                                                              \n",
       "s₆⋅(c₁₂⋅s₅ + c₃₄⋅c₅⋅s₁₂)   a₂⋅s₁₂ + a₃⋅c₃⋅s₁₂ + a₄⋅c₃₄⋅s₁₂ - c₁₂⋅d₄ + d₆⋅(-c₁₂\n",
       "                                                                              \n",
       "c₆ - c₅⋅s₃₄⋅s₆                               a₃⋅s₃ + a₄⋅s₃₄ + d₆⋅s₃₄⋅s₅ + 425 \n",
       "                                                                              \n",
       "     0                                                      1                 \n",
       "\n",
       "c₃₄⋅s₅ + c₅⋅s₁₂) ⎤\n",
       "                 ⎥\n",
       "⋅c₅ + c₃₄⋅s₁₂⋅s₅)⎥\n",
       "                 ⎥\n",
       "                 ⎥\n",
       "                 ⎥\n",
       "                 ⎦"
      ]
     },
     "execution_count": 2,
     "metadata": {},
     "output_type": "execute_result"
    }
   ],
   "source": [
    "#Tamanho dos links do manipulador\n",
    "a1 = Symbol('a₁')\n",
    "a2 = Symbol('a₂')\n",
    "a3 = Symbol('a₃') \n",
    "a4 = Symbol('a₄')\n",
    "a5 = Symbol('a₅')\n",
    "a6 = Symbol('a₆')\n",
    "\n",
    "KR6 = Robot((\n",
    "    [theta1, 425, 0, 0],\n",
    "    [theta2, 0, a2, rad(90)],\n",
    "    [theta3, 0, a3, 0],\n",
    "    [theta4, d4, a4, rad(-90)],\n",
    "    [theta5, 0, 0, rad(90)],\n",
    "    [theta6, d6, 0, rad(-90)]\n",
    "))\n",
    "\n",
    "KR6.HTM(0, 6)"
   ]
  },
  {
   "cell_type": "code",
   "execution_count": 3,
   "metadata": {},
   "outputs": [],
   "source": [
    "KR6.H = KR6.H.subs(a2, 25)\n",
    "KR6.H = KR6.H.subs(a3, 335)\n",
    "KR6.H = KR6.H.subs(a4, 25)\n",
    "KR6.H = KR6.H.subs(d4, 390)\n",
    "KR6.H = KR6.H.subs(d6, 90)"
   ]
  },
  {
   "cell_type": "code",
   "execution_count": 5,
   "metadata": {},
   "outputs": [
    {
     "data": {
      "image/png": "[encoded data removed]",
      "text/latex": [
       "$\\displaystyle \\left[\\begin{matrix}1.0 & 0 & 0 & 385.0\\\\0 & 1.0 & 0 & -480.0\\\\0 & 0 & 1.0 & 425.0\\\\0 & 0 & 0 & 1.0\\end{matrix}\\right]$"
      ],
      "text/plain": [
       "⎡1.0   0    0   385.0 ⎤\n",
       "⎢                     ⎥\n",
       "⎢ 0   1.0   0   -480.0⎥\n",
       "⎢                     ⎥\n",
       "⎢ 0    0   1.0  425.0 ⎥\n",
       "⎢                     ⎥\n",
       "⎣ 0    0    0    1.0  ⎦"
      ]
     },
     "execution_count": 5,
     "metadata": {},
     "output_type": "execute_result"
    }
   ],
   "source": [
    "KR6.POSE([rad(0), rad(0), rad(0), rad(0), rad(0), rad(0)])"
   ]
  }
 ],
 "metadata": {
  "kernelspec": {
   "display_name": "Python 3",
   "language": "python",
   "name": "python3"
  },
  "language_info": {
   "codemirror_mode": {
    "name": "ipython",
    "version": 3
   },
   "file_extension": ".py",
   "mimetype": "text/x-python",
   "name": "python",
   "nbconvert_exporter": "python",
   "pygments_lexer": "ipython3",
   "version": "3.10.11"
  },
  "orig_nbformat": 4
 },
 "nbformat": 4,
 "nbformat_minor": 2
}
