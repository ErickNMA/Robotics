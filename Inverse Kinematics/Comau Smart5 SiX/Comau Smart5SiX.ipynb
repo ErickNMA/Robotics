{
 "cells": [
  {
   "attachments": {},
   "cell_type": "markdown",
   "metadata": {},
   "source": [
    "<h1 align='center'>\n",
    "    Comau Smart5 SiX\n",
    "<h1>"
   ]
  },
  {
   "attachments": {},
   "cell_type": "markdown",
   "metadata": {},
   "source": [
    "<div align=\"center\">\n",
    "    <img src=\"smart5six.jpg\" height=500px>\n",
    "</div>"
   ]
  },
  {
   "cell_type": "code",
   "execution_count": 1,
   "metadata": {},
   "outputs": [],
   "source": [
    "from FKM import *"
   ]
  },
  {
   "attachments": {},
   "cell_type": "markdown",
   "metadata": {},
   "source": [
    "### Definição da Tabela de Denavit Hartenberg:"
   ]
  },
  {
   "cell_type": "code",
   "execution_count": 2,
   "metadata": {},
   "outputs": [],
   "source": [
    "six = Robot()\n",
    "\n",
    "six.addNonDHLine(0, 0, 450, rad(180), 0, 0)\n",
    "six.addDHLine(theta1, 0, 150, rad(90))\n",
    "six.addDHLine(theta2-rad(90), 0, 590, rad(180))\n",
    "six.addDHLine(theta3+rad(90), 0, 130, -rad(90))\n",
    "six.addDHLine(theta4, -647.07, 0, -rad(90))\n",
    "six.addDHLine(theta5, 0, 0, rad(90))\n",
    "six.addDHLine(theta6, -95, 0, 0)\n",
    "six.addNonDHLine(0, 0, 0, 0, rad(180), 0)"
   ]
  },
  {
   "attachments": {},
   "cell_type": "markdown",
   "metadata": {},
   "source": [
    "### Modelo Cinemático Direto:"
   ]
  },
  {
   "cell_type": "code",
   "execution_count": 3,
   "metadata": {},
   "outputs": [
    {
     "data": {
      "text/latex": [
       "$\\displaystyle \\left[\\begin{matrix}- \\left(\\left(\\sin{\\left(θ₁ \\right)} \\sin{\\left(θ₄ \\right)} - \\cos{\\left(θ₁ \\right)} \\cos{\\left(θ₄ \\right)} \\cos{\\left(θ₂ - θ₃ \\right)}\\right) \\cos{\\left(θ₅ \\right)} + \\sin{\\left(θ₅ \\right)} \\sin{\\left(θ₂ - θ₃ \\right)} \\cos{\\left(θ₁ \\right)}\\right) \\cos{\\left(θ₆ \\right)} - \\left(\\sin{\\left(θ₁ \\right)} \\cos{\\left(θ₄ \\right)} + \\sin{\\left(θ₄ \\right)} \\cos{\\left(θ₁ \\right)} \\cos{\\left(θ₂ - θ₃ \\right)}\\right) \\sin{\\left(θ₆ \\right)} & - \\left(\\left(\\sin{\\left(θ₁ \\right)} \\sin{\\left(θ₄ \\right)} - \\cos{\\left(θ₁ \\right)} \\cos{\\left(θ₄ \\right)} \\cos{\\left(θ₂ - θ₃ \\right)}\\right) \\cos{\\left(θ₅ \\right)} + \\sin{\\left(θ₅ \\right)} \\sin{\\left(θ₂ - θ₃ \\right)} \\cos{\\left(θ₁ \\right)}\\right) \\sin{\\left(θ₆ \\right)} + \\left(\\sin{\\left(θ₁ \\right)} \\cos{\\left(θ₄ \\right)} + \\sin{\\left(θ₄ \\right)} \\cos{\\left(θ₁ \\right)} \\cos{\\left(θ₂ - θ₃ \\right)}\\right) \\cos{\\left(θ₆ \\right)} & - \\left(\\sin{\\left(θ₁ \\right)} \\sin{\\left(θ₄ \\right)} - \\cos{\\left(θ₁ \\right)} \\cos{\\left(θ₄ \\right)} \\cos{\\left(θ₂ - θ₃ \\right)}\\right) \\sin{\\left(θ₅ \\right)} + \\sin{\\left(θ₂ - θ₃ \\right)} \\cos{\\left(θ₁ \\right)} \\cos{\\left(θ₅ \\right)} & - 95 \\left(\\sin{\\left(θ₁ \\right)} \\sin{\\left(θ₄ \\right)} - \\cos{\\left(θ₁ \\right)} \\cos{\\left(θ₄ \\right)} \\cos{\\left(θ₂ - θ₃ \\right)}\\right) \\sin{\\left(θ₅ \\right)} + \\left(590.0 \\sin{\\left(θ₂ \\right)} + 647.07 \\sin{\\left(θ₂ - θ₃ \\right)} - 130.0 \\cos{\\left(θ₂ - θ₃ \\right)} + 150.0\\right) \\cos{\\left(θ₁ \\right)} + 95 \\sin{\\left(θ₂ - θ₃ \\right)} \\cos{\\left(θ₁ \\right)} \\cos{\\left(θ₅ \\right)}\\\\- \\left(\\left(\\sin{\\left(θ₁ \\right)} \\cos{\\left(θ₄ \\right)} \\cos{\\left(θ₂ - θ₃ \\right)} + \\sin{\\left(θ₄ \\right)} \\cos{\\left(θ₁ \\right)}\\right) \\cos{\\left(θ₅ \\right)} - \\sin{\\left(θ₁ \\right)} \\sin{\\left(θ₅ \\right)} \\sin{\\left(θ₂ - θ₃ \\right)}\\right) \\cos{\\left(θ₆ \\right)} + \\left(\\sin{\\left(θ₁ \\right)} \\sin{\\left(θ₄ \\right)} \\cos{\\left(θ₂ - θ₃ \\right)} - \\cos{\\left(θ₁ \\right)} \\cos{\\left(θ₄ \\right)}\\right) \\sin{\\left(θ₆ \\right)} & - \\left(\\left(\\sin{\\left(θ₁ \\right)} \\cos{\\left(θ₄ \\right)} \\cos{\\left(θ₂ - θ₃ \\right)} + \\sin{\\left(θ₄ \\right)} \\cos{\\left(θ₁ \\right)}\\right) \\cos{\\left(θ₅ \\right)} - \\sin{\\left(θ₁ \\right)} \\sin{\\left(θ₅ \\right)} \\sin{\\left(θ₂ - θ₃ \\right)}\\right) \\sin{\\left(θ₆ \\right)} - \\left(\\sin{\\left(θ₁ \\right)} \\sin{\\left(θ₄ \\right)} \\cos{\\left(θ₂ - θ₃ \\right)} - \\cos{\\left(θ₁ \\right)} \\cos{\\left(θ₄ \\right)}\\right) \\cos{\\left(θ₆ \\right)} & - \\left(\\sin{\\left(θ₁ \\right)} \\cos{\\left(θ₄ \\right)} \\cos{\\left(θ₂ - θ₃ \\right)} + \\sin{\\left(θ₄ \\right)} \\cos{\\left(θ₁ \\right)}\\right) \\sin{\\left(θ₅ \\right)} - \\sin{\\left(θ₁ \\right)} \\sin{\\left(θ₂ - θ₃ \\right)} \\cos{\\left(θ₅ \\right)} & - 95 \\left(\\sin{\\left(θ₁ \\right)} \\cos{\\left(θ₄ \\right)} \\cos{\\left(θ₂ - θ₃ \\right)} + \\sin{\\left(θ₄ \\right)} \\cos{\\left(θ₁ \\right)}\\right) \\sin{\\left(θ₅ \\right)} - \\left(590.0 \\sin{\\left(θ₂ \\right)} + 647.07 \\sin{\\left(θ₂ - θ₃ \\right)} - 130.0 \\cos{\\left(θ₂ - θ₃ \\right)} + 150.0\\right) \\sin{\\left(θ₁ \\right)} - 95 \\sin{\\left(θ₁ \\right)} \\sin{\\left(θ₂ - θ₃ \\right)} \\cos{\\left(θ₅ \\right)}\\\\- \\left(\\sin{\\left(θ₅ \\right)} \\cos{\\left(θ₂ - θ₃ \\right)} + \\sin{\\left(θ₂ - θ₃ \\right)} \\cos{\\left(θ₄ \\right)} \\cos{\\left(θ₅ \\right)}\\right) \\cos{\\left(θ₆ \\right)} + \\sin{\\left(θ₄ \\right)} \\sin{\\left(θ₆ \\right)} \\sin{\\left(θ₂ - θ₃ \\right)} & - \\left(\\sin{\\left(θ₅ \\right)} \\cos{\\left(θ₂ - θ₃ \\right)} + \\sin{\\left(θ₂ - θ₃ \\right)} \\cos{\\left(θ₄ \\right)} \\cos{\\left(θ₅ \\right)}\\right) \\sin{\\left(θ₆ \\right)} - \\sin{\\left(θ₄ \\right)} \\sin{\\left(θ₂ - θ₃ \\right)} \\cos{\\left(θ₆ \\right)} & - \\sin{\\left(θ₅ \\right)} \\sin{\\left(θ₂ - θ₃ \\right)} \\cos{\\left(θ₄ \\right)} + \\cos{\\left(θ₅ \\right)} \\cos{\\left(θ₂ - θ₃ \\right)} & - 95.0 \\sin{\\left(θ₅ \\right)} \\sin{\\left(θ₂ - θ₃ \\right)} \\cos{\\left(θ₄ \\right)} + 130.0 \\sin{\\left(θ₂ - θ₃ \\right)} + 590.0 \\cos{\\left(θ₂ \\right)} + 95.0 \\cos{\\left(θ₅ \\right)} \\cos{\\left(θ₂ - θ₃ \\right)} + 647.07 \\cos{\\left(θ₂ - θ₃ \\right)} + 450.0\\\\0 & 0 & 0 & 1\\end{matrix}\\right]$"
      ],
      "text/plain": [
       "⎡-((sin(θ₁)⋅sin(θ₄) - cos(θ₁)⋅cos(θ₄)⋅cos(θ₂ - θ₃))⋅cos(θ₅) + sin(θ₅)⋅sin(θ₂ -\n",
       "⎢                                                                             \n",
       "⎢-((sin(θ₁)⋅cos(θ₄)⋅cos(θ₂ - θ₃) + sin(θ₄)⋅cos(θ₁))⋅cos(θ₅) - sin(θ₁)⋅sin(θ₅)⋅\n",
       "⎢                                                                             \n",
       "⎢                                -(sin(θ₅)⋅cos(θ₂ - θ₃) + sin(θ₂ - θ₃)⋅cos(θ₄)\n",
       "⎢                                                                             \n",
       "⎣                                                                             \n",
       "\n",
       " θ₃)⋅cos(θ₁))⋅cos(θ₆) - (sin(θ₁)⋅cos(θ₄) + sin(θ₄)⋅cos(θ₁)⋅cos(θ₂ - θ₃))⋅sin(θ\n",
       "                                                                              \n",
       "sin(θ₂ - θ₃))⋅cos(θ₆) + (sin(θ₁)⋅sin(θ₄)⋅cos(θ₂ - θ₃) - cos(θ₁)⋅cos(θ₄))⋅sin(θ\n",
       "                                                                              \n",
       "⋅cos(θ₅))⋅cos(θ₆) + sin(θ₄)⋅sin(θ₆)⋅sin(θ₂ - θ₃)                              \n",
       "                                                                              \n",
       " 0                                                                            \n",
       "\n",
       "₆)  -((sin(θ₁)⋅sin(θ₄) - cos(θ₁)⋅cos(θ₄)⋅cos(θ₂ - θ₃))⋅cos(θ₅) + sin(θ₅)⋅sin(θ\n",
       "                                                                              \n",
       "₆)  -((sin(θ₁)⋅cos(θ₄)⋅cos(θ₂ - θ₃) + sin(θ₄)⋅cos(θ₁))⋅cos(θ₅) - sin(θ₁)⋅sin(θ\n",
       "                                                                              \n",
       "                                    -(sin(θ₅)⋅cos(θ₂ - θ₃) + sin(θ₂ - θ₃)⋅cos(\n",
       "                                                                              \n",
       "                                                                              \n",
       "\n",
       "₂ - θ₃)⋅cos(θ₁))⋅sin(θ₆) + (sin(θ₁)⋅cos(θ₄) + sin(θ₄)⋅cos(θ₁)⋅cos(θ₂ - θ₃))⋅co\n",
       "                                                                              \n",
       "₅)⋅sin(θ₂ - θ₃))⋅sin(θ₆) - (sin(θ₁)⋅sin(θ₄)⋅cos(θ₂ - θ₃) - cos(θ₁)⋅cos(θ₄))⋅co\n",
       "                                                                              \n",
       "θ₄)⋅cos(θ₅))⋅sin(θ₆) - sin(θ₄)⋅sin(θ₂ - θ₃)⋅cos(θ₆)                           \n",
       "                                                                              \n",
       "    0                                                                         \n",
       "\n",
       "s(θ₆)  -(sin(θ₁)⋅sin(θ₄) - cos(θ₁)⋅cos(θ₄)⋅cos(θ₂ - θ₃))⋅sin(θ₅) + sin(θ₂ - θ₃\n",
       "                                                                              \n",
       "s(θ₆)  -(sin(θ₁)⋅cos(θ₄)⋅cos(θ₂ - θ₃) + sin(θ₄)⋅cos(θ₁))⋅sin(θ₅) - sin(θ₁)⋅sin\n",
       "                                                                              \n",
       "                         -sin(θ₅)⋅sin(θ₂ - θ₃)⋅cos(θ₄) + cos(θ₅)⋅cos(θ₂ - θ₃) \n",
       "                                                                              \n",
       "                                                  0                           \n",
       "\n",
       ")⋅cos(θ₁)⋅cos(θ₅)  -95⋅(sin(θ₁)⋅sin(θ₄) - cos(θ₁)⋅cos(θ₄)⋅cos(θ₂ - θ₃))⋅sin(θ₅\n",
       "                                                                              \n",
       "(θ₂ - θ₃)⋅cos(θ₅)  -95⋅(sin(θ₁)⋅cos(θ₄)⋅cos(θ₂ - θ₃) + sin(θ₄)⋅cos(θ₁))⋅sin(θ₅\n",
       "                                                                              \n",
       "                                        -95.0⋅sin(θ₅)⋅sin(θ₂ - θ₃)⋅cos(θ₄) + 1\n",
       "                                                                              \n",
       "                                                                              \n",
       "\n",
       ") + (590.0⋅sin(θ₂) + 647.07⋅sin(θ₂ - θ₃) - 130.0⋅cos(θ₂ - θ₃) + 150.0)⋅cos(θ₁)\n",
       "                                                                              \n",
       ") - (590.0⋅sin(θ₂) + 647.07⋅sin(θ₂ - θ₃) - 130.0⋅cos(θ₂ - θ₃) + 150.0)⋅sin(θ₁)\n",
       "                                                                              \n",
       "30.0⋅sin(θ₂ - θ₃) + 590.0⋅cos(θ₂) + 95.0⋅cos(θ₅)⋅cos(θ₂ - θ₃) + 647.07⋅cos(θ₂ \n",
       "                                                                              \n",
       "                          1                                                   \n",
       "\n",
       " + 95⋅sin(θ₂ - θ₃)⋅cos(θ₁)⋅cos(θ₅)⎤\n",
       "                                  ⎥\n",
       " - 95⋅sin(θ₁)⋅sin(θ₂ - θ₃)⋅cos(θ₅)⎥\n",
       "                                  ⎥\n",
       "- θ₃) + 450.0                     ⎥\n",
       "                                  ⎥\n",
       "                                  ⎦"
      ]
     },
     "execution_count": 3,
     "metadata": {},
     "output_type": "execute_result"
    }
   ],
   "source": [
    "MCD = six.HTM(0, 8, False)\n",
    "\n",
    "MCD"
   ]
  },
  {
   "cell_type": "code",
   "execution_count": 4,
   "metadata": {},
   "outputs": [
    {
     "data": {
      "text/latex": [
       "$\\displaystyle \\left[\\begin{matrix}0 & 0 & 1 & 892.07\\\\0 & 1 & 0 & 0\\\\-1 & 0 & 0 & 1170.0\\\\0 & 0 & 0 & 1\\end{matrix}\\right]$"
      ],
      "text/plain": [
       "⎡0   0  1  892.07⎤\n",
       "⎢                ⎥\n",
       "⎢0   1  0    0   ⎥\n",
       "⎢                ⎥\n",
       "⎢-1  0  0  1170.0⎥\n",
       "⎢                ⎥\n",
       "⎣0   0  0    1   ⎦"
      ]
     },
     "execution_count": 4,
     "metadata": {},
     "output_type": "execute_result"
    }
   ],
   "source": [
    "HOME = [0, 0, -rad(90), 0, 0, 0]\n",
    "\n",
    "six.POSE(HOME)"
   ]
  },
  {
   "attachments": {},
   "cell_type": "markdown",
   "metadata": {},
   "source": [
    "### $$\\text{Obtenção do Jacobiano de velocidades lineares } J_{v_i} = z_{i-1}^0 \\times \\left( o_n^0 - o_{i-1}^0 \\right) \\text{ :}$$"
   ]
  },
  {
   "cell_type": "code",
   "execution_count": 5,
   "metadata": {},
   "outputs": [
    {
     "data": {
      "text/latex": [
       "$\\displaystyle \\left[\\begin{matrix}- 95 c_{5} s_{1} s_{(2-3)} - s_{1} \\left(- 130.0 c_{(2-3)} + 590.0 s_{2} + 647.07 s_{(2-3)} + 150.0\\right) - 95 s_{5} \\left(c_{1} s_{4} + c_{4} c_{(2-3)} s_{1}\\right) & - 95 c_{1} c_{4} s_{5} s_{(2-3)} + 95 c_{1} c_{5} c_{(2-3)} + c_{1} \\cdot \\left(590.0 c_{2} + 647.07 c_{(2-3)} + 130.0 s_{(2-3)}\\right) & 95 c_{1} c_{4} s_{5} s_{(2-3)} - 95 c_{1} c_{5} c_{(2-3)} + c_{1} \\left(- 647.07 c_{(2-3)} - 130.0 s_{(2-3)}\\right) & - 95 s_{5} \\left(c_{1} c_{(2-3)} s_{4} + c_{4} s_{1}\\right) & - 95 c_{1} s_{5} s_{(2-3)} - 95 c_{5} \\left(- c_{1} c_{4} c_{(2-3)} + s_{1} s_{4}\\right) & 0\\\\- 95 c_{1} c_{5} s_{(2-3)} - c_{1} \\left(- 130.0 c_{(2-3)} + 590.0 s_{2} + 647.07 s_{(2-3)} + 150.0\\right) - 95 s_{5} \\left(c_{1} c_{4} c_{(2-3)} - s_{1} s_{4}\\right) & 95 c_{4} s_{1} s_{5} s_{(2-3)} - 95 c_{5} c_{(2-3)} s_{1} - s_{1} \\cdot \\left(590.0 c_{2} + 647.07 c_{(2-3)} + 130.0 s_{(2-3)}\\right) & - 95 c_{4} s_{1} s_{5} s_{(2-3)} + 95 c_{5} c_{(2-3)} s_{1} - s_{1} \\left(- 647.07 c_{(2-3)} - 130.0 s_{(2-3)}\\right) & - 95 s_{5} \\left(c_{1} c_{4} - c_{(2-3)} s_{1} s_{4}\\right) & - 95 c_{5} \\left(c_{1} s_{4} + c_{4} c_{(2-3)} s_{1}\\right) + 95 s_{1} s_{5} s_{(2-3)} & 0\\\\0 & - 95.0 c_{4} c_{(2-3)} s_{5} - 95.0 c_{5} s_{(2-3)} + 130.0 c_{(2-3)} - 590.0 s_{2} - 647.07 s_{(2-3)} & 95.0 c_{4} c_{(2-3)} s_{5} + 95.0 c_{5} s_{(2-3)} - 130.0 c_{(2-3)} + 647.07 s_{(2-3)} & 95.0 s_{4} s_{5} s_{(2-3)} & - 95.0 c_{4} c_{5} s_{(2-3)} - 95.0 c_{(2-3)} s_{5} & 0\\end{matrix}\\right]$"
      ],
      "text/plain": [
       "⎡-95⋅c₅⋅s₁⋅s_{(2-3)} - s₁⋅(-130.0⋅c_{(2-3)} + 590.0⋅s₂ + 647.07⋅s_{(2-3)} + 15\n",
       "⎢                                                                             \n",
       "⎢-95⋅c₁⋅c₅⋅s_{(2-3)} - c₁⋅(-130.0⋅c_{(2-3)} + 590.0⋅s₂ + 647.07⋅s_{(2-3)} + 15\n",
       "⎢                                                                             \n",
       "⎣                                                         0                   \n",
       "\n",
       "0.0) - 95⋅s₅⋅(c₁⋅s₄ + c₄⋅c_{(2-3)}⋅s₁)  -95⋅c₁⋅c₄⋅s₅⋅s_{(2-3)} + 95⋅c₁⋅c₅⋅c_{(\n",
       "                                                                              \n",
       "0.0) - 95⋅s₅⋅(c₁⋅c₄⋅c_{(2-3)} - s₁⋅s₄)  95⋅c₄⋅s₁⋅s₅⋅s_{(2-3)} - 95⋅c₅⋅c_{(2-3)\n",
       "                                                                              \n",
       "                                           -95.0⋅c₄⋅c_{(2-3)}⋅s₅ - 95.0⋅c₅⋅s_{\n",
       "\n",
       "2-3)} + c₁⋅(590.0⋅c₂ + 647.07⋅c_{(2-3)} + 130.0⋅s_{(2-3)})  95⋅c₁⋅c₄⋅s₅⋅s_{(2-\n",
       "                                                                              \n",
       "}⋅s₁ - s₁⋅(590.0⋅c₂ + 647.07⋅c_{(2-3)} + 130.0⋅s_{(2-3)})   -95⋅c₄⋅s₁⋅s₅⋅s_{(2\n",
       "                                                                              \n",
       "(2-3)} + 130.0⋅c_{(2-3)} - 590.0⋅s₂ - 647.07⋅s_{(2-3)}          95.0⋅c₄⋅c_{(2-\n",
       "\n",
       "3)} - 95⋅c₁⋅c₅⋅c_{(2-3)} + c₁⋅(-647.07⋅c_{(2-3)} - 130.0⋅s_{(2-3)})   -95⋅s₅⋅(\n",
       "                                                                              \n",
       "-3)} + 95⋅c₅⋅c_{(2-3)}⋅s₁ - s₁⋅(-647.07⋅c_{(2-3)} - 130.0⋅s_{(2-3)})  -95⋅s₅⋅(\n",
       "                                                                              \n",
       "3)}⋅s₅ + 95.0⋅c₅⋅s_{(2-3)} - 130.0⋅c_{(2-3)} + 647.07⋅s_{(2-3)}             95\n",
       "\n",
       "c₁⋅c_{(2-3)}⋅s₄ + c₄⋅s₁)  -95⋅c₁⋅s₅⋅s_{(2-3)} - 95⋅c₅⋅(-c₁⋅c₄⋅c_{(2-3)} + s₁⋅s\n",
       "                                                                              \n",
       "c₁⋅c₄ - c_{(2-3)}⋅s₁⋅s₄)  -95⋅c₅⋅(c₁⋅s₄ + c₄⋅c_{(2-3)}⋅s₁) + 95⋅s₁⋅s₅⋅s_{(2-3)\n",
       "                                                                              \n",
       ".0⋅s₄⋅s₅⋅s_{(2-3)}              -95.0⋅c₄⋅c₅⋅s_{(2-3)} - 95.0⋅c_{(2-3)}⋅s₅     \n",
       "\n",
       "₄)  0⎤\n",
       "     ⎥\n",
       "}   0⎥\n",
       "     ⎥\n",
       "    0⎦"
      ]
     },
     "execution_count": 5,
     "metadata": {},
     "output_type": "execute_result"
    }
   ],
   "source": [
    "origins = MCD[0:3, 3]\n",
    "\n",
    "jv = []\n",
    "for i in thetas:\n",
    "    jv.append(abrev(diff(origins, i)))\n",
    "\n",
    "import numpy as np\n",
    "\n",
    "Matrix(np.block(jv))"
   ]
  },
  {
   "attachments": {},
   "cell_type": "markdown",
   "metadata": {},
   "source": [
    "### $$\\text{Obtenção de } Z_{i-1}^0 = R_{i-1}^0k \\text{ :}$$"
   ]
  },
  {
   "cell_type": "code",
   "execution_count": 6,
   "metadata": {},
   "outputs": [
    {
     "data": {
      "text/latex": [
       "$\\displaystyle \\left[ \\left[\\begin{matrix}0\\\\0\\\\1\\end{matrix}\\right], \\  \\left[\\begin{matrix}s_{1}\\\\c_{1}\\\\0\\end{matrix}\\right], \\  \\left[\\begin{matrix}- s_{1}\\\\- c_{1}\\\\0\\end{matrix}\\right], \\  \\left[\\begin{matrix}- c_{1} s_{(2-3)}\\\\s_{1} s_{(2-3)}\\\\- c_{(2-3)}\\end{matrix}\\right], \\  \\left[\\begin{matrix}c_{1} c_{(2-3)} s_{4} + c_{4} s_{1}\\\\c_{1} c_{4} - c_{(2-3)} s_{1} s_{4}\\\\- s_{4} s_{(2-3)}\\end{matrix}\\right], \\  \\left[\\begin{matrix}- c_{1} c_{5} s_{(2-3)} - s_{5} \\left(c_{1} c_{4} c_{(2-3)} - s_{1} s_{4}\\right)\\\\c_{5} s_{1} s_{(2-3)} + s_{5} \\left(c_{1} s_{4} + c_{4} c_{(2-3)} s_{1}\\right)\\\\c_{4} s_{5} s_{(2-3)} - c_{5} c_{(2-3)}\\end{matrix}\\right]\\right]$"
      ],
      "text/plain": [
       "⎡⎡0⎤  ⎡s₁⎤  ⎡-s₁⎤  ⎡-c₁⋅s_{(2-3)}⎤  ⎡c₁⋅c_{(2-3)}⋅s₄ + c₄⋅s₁⎤  ⎡-c₁⋅c₅⋅s_{(2-3\n",
       "⎢⎢ ⎥  ⎢  ⎥  ⎢   ⎥  ⎢             ⎥  ⎢                       ⎥  ⎢              \n",
       "⎢⎢0⎥, ⎢c₁⎥, ⎢-c₁⎥, ⎢s₁⋅s_{(2-3)} ⎥, ⎢c₁⋅c₄ - c_{(2-3)}⋅s₁⋅s₄⎥, ⎢c₅⋅s₁⋅s_{(2-3)\n",
       "⎢⎢ ⎥  ⎢  ⎥  ⎢   ⎥  ⎢             ⎥  ⎢                       ⎥  ⎢              \n",
       "⎣⎣1⎦  ⎣0 ⎦  ⎣ 0 ⎦  ⎣ -c_{(2-3)}  ⎦  ⎣     -s₄⋅s_{(2-3)}     ⎦  ⎣        c₄⋅s₅⋅\n",
       "\n",
       ")} - s₅⋅(c₁⋅c₄⋅c_{(2-3)} - s₁⋅s₄)⎤⎤\n",
       "                                 ⎥⎥\n",
       "} + s₅⋅(c₁⋅s₄ + c₄⋅c_{(2-3)}⋅s₁) ⎥⎥\n",
       "                                 ⎥⎥\n",
       "s_{(2-3)} - c₅⋅c_{(2-3)}         ⎦⎦"
      ]
     },
     "execution_count": 6,
     "metadata": {},
     "output_type": "execute_result"
    }
   ],
   "source": [
    "z = [Matrix([[0], [0], [1]])]\n",
    "n = 8\n",
    "\n",
    "for i in range(2, n-1):\n",
    "    z.append(simplify(six.HTM(0, i)[:3, 2]))\n",
    "#z.append(simplify(six.HTM(0, 8)[:3, 2]))\n",
    "z"
   ]
  },
  {
   "attachments": {},
   "cell_type": "markdown",
   "metadata": {},
   "source": [
    "### $$\\text{Obtenção do Jacobiano de velocidades angulares } J_{\\omega_i} = z_{i-1}^0 \\text{ :}$$"
   ]
  },
  {
   "cell_type": "code",
   "execution_count": 7,
   "metadata": {},
   "outputs": [
    {
     "data": {
      "text/latex": [
       "$\\displaystyle \\left[ \\left[\\begin{matrix}0\\\\0\\\\1\\end{matrix}\\right], \\  \\left[\\begin{matrix}s_{1}\\\\c_{1}\\\\0\\end{matrix}\\right], \\  \\left[\\begin{matrix}- s_{1}\\\\- c_{1}\\\\0\\end{matrix}\\right], \\  \\left[\\begin{matrix}- c_{1} s_{(2-3)}\\\\s_{1} s_{(2-3)}\\\\- c_{(2-3)}\\end{matrix}\\right], \\  \\left[\\begin{matrix}c_{1} c_{(2-3)} s_{4} + c_{4} s_{1}\\\\c_{1} c_{4} - c_{(2-3)} s_{1} s_{4}\\\\- s_{4} s_{(2-3)}\\end{matrix}\\right], \\  \\left[\\begin{matrix}- c_{1} c_{5} s_{(2-3)} - s_{5} \\left(c_{1} c_{4} c_{(2-3)} - s_{1} s_{4}\\right)\\\\c_{5} s_{1} s_{(2-3)} + s_{5} \\left(c_{1} s_{4} + c_{4} c_{(2-3)} s_{1}\\right)\\\\c_{4} s_{5} s_{(2-3)} - c_{5} c_{(2-3)}\\end{matrix}\\right]\\right]$"
      ],
      "text/plain": [
       "⎡⎡0⎤  ⎡s₁⎤  ⎡-s₁⎤  ⎡-c₁⋅s_{(2-3)}⎤  ⎡c₁⋅c_{(2-3)}⋅s₄ + c₄⋅s₁⎤  ⎡-c₁⋅c₅⋅s_{(2-3\n",
       "⎢⎢ ⎥  ⎢  ⎥  ⎢   ⎥  ⎢             ⎥  ⎢                       ⎥  ⎢              \n",
       "⎢⎢0⎥, ⎢c₁⎥, ⎢-c₁⎥, ⎢s₁⋅s_{(2-3)} ⎥, ⎢c₁⋅c₄ - c_{(2-3)}⋅s₁⋅s₄⎥, ⎢c₅⋅s₁⋅s_{(2-3)\n",
       "⎢⎢ ⎥  ⎢  ⎥  ⎢   ⎥  ⎢             ⎥  ⎢                       ⎥  ⎢              \n",
       "⎣⎣1⎦  ⎣0 ⎦  ⎣ 0 ⎦  ⎣ -c_{(2-3)}  ⎦  ⎣     -s₄⋅s_{(2-3)}     ⎦  ⎣        c₄⋅s₅⋅\n",
       "\n",
       ")} - s₅⋅(c₁⋅c₄⋅c_{(2-3)} - s₁⋅s₄)⎤⎤\n",
       "                                 ⎥⎥\n",
       "} + s₅⋅(c₁⋅s₄ + c₄⋅c_{(2-3)}⋅s₁) ⎥⎥\n",
       "                                 ⎥⎥\n",
       "s_{(2-3)} - c₅⋅c_{(2-3)}         ⎦⎦"
      ]
     },
     "execution_count": 7,
     "metadata": {},
     "output_type": "execute_result"
    }
   ],
   "source": [
    "jw = []\n",
    "for i in range(len(z)):\n",
    "    if(six.rotational[i]):\n",
    "        jw.append(simplify(z[i]))\n",
    "    else:\n",
    "        jw.append(Matrix([[0], [0], [0]]))\n",
    "\n",
    "jw"
   ]
  },
  {
   "attachments": {},
   "cell_type": "markdown",
   "metadata": {},
   "source": [
    "### $$\\text{Obtenção do Jacobiano de velocidades completo, tal que } \\xi = J(q)\\dot{q} \\text{ :}$$"
   ]
  },
  {
   "cell_type": "code",
   "execution_count": 8,
   "metadata": {},
   "outputs": [
    {
     "data": {
      "text/latex": [
       "$\\displaystyle \\left[\\begin{matrix}- 95 c_{5} s_{1} s_{(2-3)} - s_{1} \\left(- 130.0 c_{(2-3)} + 590.0 s_{2} + 647.07 s_{(2-3)} + 150.0\\right) - 95 s_{5} \\left(c_{1} s_{4} + c_{4} c_{(2-3)} s_{1}\\right) & c_{1} \\cdot \\left(590.0 c_{2} - 95 c_{4} s_{5} s_{(2-3)} + 95 c_{5} c_{(2-3)} + 647.07 c_{(2-3)} + 130.0 s_{(2-3)}\\right) & c_{1} \\cdot \\left(95 c_{4} s_{5} s_{(2-3)} - 95 c_{5} c_{(2-3)} - 647.07 c_{(2-3)} - 130.0 s_{(2-3)}\\right) & - 95 s_{5} \\left(c_{1} c_{(2-3)} s_{4} + c_{4} s_{1}\\right) & - 95 c_{1} s_{5} s_{(2-3)} + 95 c_{5} \\left(c_{1} c_{4} c_{(2-3)} - s_{1} s_{4}\\right) & 0\\\\- 95 c_{1} c_{5} s_{(2-3)} - c_{1} \\left(- 130.0 c_{(2-3)} + 590.0 s_{2} + 647.07 s_{(2-3)} + 150.0\\right) - 95 s_{5} \\left(c_{1} c_{4} c_{(2-3)} - s_{1} s_{4}\\right) & s_{1} \\left(- 590.0 c_{2} + 95 c_{4} s_{5} s_{(2-3)} - 95 c_{5} c_{(2-3)} - 647.07 c_{(2-3)} - 130.0 s_{(2-3)}\\right) & s_{1} \\left(- 95 c_{4} s_{5} s_{(2-3)} + 95 c_{5} c_{(2-3)} + 647.07 c_{(2-3)} + 130.0 s_{(2-3)}\\right) & 95 s_{5} \\left(- c_{1} c_{4} + c_{(2-3)} s_{1} s_{4}\\right) & - 95 c_{5} \\left(c_{1} s_{4} + c_{4} c_{(2-3)} s_{1}\\right) + 95 s_{1} s_{5} s_{(2-3)} & 0\\\\0 & - 95.0 c_{4} c_{(2-3)} s_{5} - 95.0 c_{5} s_{(2-3)} + 130.0 c_{(2-3)} - 590.0 s_{2} - 647.07 s_{(2-3)} & 95.0 c_{4} c_{(2-3)} s_{5} + 95.0 c_{5} s_{(2-3)} - 130.0 c_{(2-3)} + 647.07 s_{(2-3)} & 95.0 s_{4} s_{5} s_{(2-3)} & - 95.0 c_{4} c_{5} s_{(2-3)} - 95.0 c_{(2-3)} s_{5} & 0\\\\0 & s_{1} & - s_{1} & - c_{1} s_{(2-3)} & c_{1} c_{(2-3)} s_{4} + c_{4} s_{1} & - c_{1} c_{5} s_{(2-3)} - s_{5} \\left(c_{1} c_{4} c_{(2-3)} - s_{1} s_{4}\\right)\\\\0 & c_{1} & - c_{1} & s_{1} s_{(2-3)} & c_{1} c_{4} - c_{(2-3)} s_{1} s_{4} & c_{5} s_{1} s_{(2-3)} + s_{5} \\left(c_{1} s_{4} + c_{4} c_{(2-3)} s_{1}\\right)\\\\1 & 0 & 0 & - c_{(2-3)} & - s_{4} s_{(2-3)} & c_{4} s_{5} s_{(2-3)} - c_{5} c_{(2-3)}\\end{matrix}\\right]$"
      ],
      "text/plain": [
       "⎡-95⋅c₅⋅s₁⋅s_{(2-3)} - s₁⋅(-130.0⋅c_{(2-3)} + 590.0⋅s₂ + 647.07⋅s_{(2-3)} + 15\n",
       "⎢                                                                             \n",
       "⎢-95⋅c₁⋅c₅⋅s_{(2-3)} - c₁⋅(-130.0⋅c_{(2-3)} + 590.0⋅s₂ + 647.07⋅s_{(2-3)} + 15\n",
       "⎢                                                                             \n",
       "⎢                                                         0                   \n",
       "⎢                                                                             \n",
       "⎢                                                         0                   \n",
       "⎢                                                                             \n",
       "⎢                                                         0                   \n",
       "⎢                                                                             \n",
       "⎣                                                         1                   \n",
       "\n",
       "0.0) - 95⋅s₅⋅(c₁⋅s₄ + c₄⋅c_{(2-3)}⋅s₁)  c₁⋅(590.0⋅c₂ - 95⋅c₄⋅s₅⋅s_{(2-3)} + 95\n",
       "                                                                              \n",
       "0.0) - 95⋅s₅⋅(c₁⋅c₄⋅c_{(2-3)} - s₁⋅s₄)  s₁⋅(-590.0⋅c₂ + 95⋅c₄⋅s₅⋅s_{(2-3)} - 9\n",
       "                                                                              \n",
       "                                        -95.0⋅c₄⋅c_{(2-3)}⋅s₅ - 95.0⋅c₅⋅s_{(2-\n",
       "                                                                              \n",
       "                                                                              \n",
       "                                                                              \n",
       "                                                                              \n",
       "                                                                              \n",
       "                                                                              \n",
       "\n",
       "⋅c₅⋅c_{(2-3)} + 647.07⋅c_{(2-3)} + 130.0⋅s_{(2-3)})   c₁⋅(95⋅c₄⋅s₅⋅s_{(2-3)} -\n",
       "                                                                              \n",
       "5⋅c₅⋅c_{(2-3)} - 647.07⋅c_{(2-3)} - 130.0⋅s_{(2-3)})  s₁⋅(-95⋅c₄⋅s₅⋅s_{(2-3)} \n",
       "                                                                              \n",
       "3)} + 130.0⋅c_{(2-3)} - 590.0⋅s₂ - 647.07⋅s_{(2-3)}    95.0⋅c₄⋅c_{(2-3)}⋅s₅ + \n",
       "                                                                              \n",
       "      s₁                                                                      \n",
       "                                                                              \n",
       "      c₁                                                                      \n",
       "                                                                              \n",
       "      0                                                                       \n",
       "\n",
       " 95⋅c₅⋅c_{(2-3)} - 647.07⋅c_{(2-3)} - 130.0⋅s_{(2-3)})   -95⋅s₅⋅(c₁⋅c_{(2-3)}⋅\n",
       "                                                                              \n",
       "+ 95⋅c₅⋅c_{(2-3)} + 647.07⋅c_{(2-3)} + 130.0⋅s_{(2-3)})  95⋅s₅⋅(-c₁⋅c₄ + c_{(2\n",
       "                                                                              \n",
       "95.0⋅c₅⋅s_{(2-3)} - 130.0⋅c_{(2-3)} + 647.07⋅s_{(2-3)}         95.0⋅s₄⋅s₅⋅s_{(\n",
       "                                                                              \n",
       "              -s₁                                                 -c₁⋅s_{(2-3)\n",
       "                                                                              \n",
       "              -c₁                                                  s₁⋅s_{(2-3)\n",
       "                                                                              \n",
       "               0                                                    -c_{(2-3)}\n",
       "\n",
       "s₄ + c₄⋅s₁)  -95⋅c₁⋅s₅⋅s_{(2-3)} + 95⋅c₅⋅(c₁⋅c₄⋅c_{(2-3)} - s₁⋅s₄)            \n",
       "                                                                              \n",
       "-3)}⋅s₁⋅s₄)  -95⋅c₅⋅(c₁⋅s₄ + c₄⋅c_{(2-3)}⋅s₁) + 95⋅s₁⋅s₅⋅s_{(2-3)}            \n",
       "                                                                              \n",
       "2-3)}              -95.0⋅c₄⋅c₅⋅s_{(2-3)} - 95.0⋅c_{(2-3)}⋅s₅                  \n",
       "                                                                              \n",
       "}                           c₁⋅c_{(2-3)}⋅s₄ + c₄⋅s₁                 -c₁⋅c₅⋅s_{\n",
       "                                                                              \n",
       "}                           c₁⋅c₄ - c_{(2-3)}⋅s₁⋅s₄                 c₅⋅s₁⋅s_{(\n",
       "                                                                              \n",
       "                                 -s₄⋅s_{(2-3)}                              c₄\n",
       "\n",
       "             0                       ⎤\n",
       "                                     ⎥\n",
       "             0                       ⎥\n",
       "                                     ⎥\n",
       "             0                       ⎥\n",
       "                                     ⎥\n",
       "(2-3)} - s₅⋅(c₁⋅c₄⋅c_{(2-3)} - s₁⋅s₄)⎥\n",
       "                                     ⎥\n",
       "2-3)} + s₅⋅(c₁⋅s₄ + c₄⋅c_{(2-3)}⋅s₁) ⎥\n",
       "                                     ⎥\n",
       "⋅s₅⋅s_{(2-3)} - c₅⋅c_{(2-3)}         ⎦"
      ]
     },
     "execution_count": 8,
     "metadata": {},
     "output_type": "execute_result"
    }
   ],
   "source": [
    "J = []\n",
    "for k in range(3):\n",
    "    J.append([])\n",
    "    for i in range(6):\n",
    "        J[k].append(simplify(jv[i][k]))\n",
    "for k in range(3):\n",
    "    J.append([])\n",
    "    for i in range(6):\n",
    "        J[k+3].append(simplify(jw[i][k]))\n",
    "\n",
    "Matrix(J)"
   ]
  }
 ],
 "metadata": {
  "kernelspec": {
   "display_name": "Python 3",
   "language": "python",
   "name": "python3"
  },
  "language_info": {
   "codemirror_mode": {
    "name": "ipython",
    "version": 3
   },
   "file_extension": ".py",
   "mimetype": "text/x-python",
   "name": "python",
   "nbconvert_exporter": "python",
   "pygments_lexer": "ipython3",
   "version": "3.10.6"
  },
  "orig_nbformat": 4
 },
 "nbformat": 4,
 "nbformat_minor": 2
}
