{
 "cells": [
  {
   "attachments": {},
   "cell_type": "markdown",
   "metadata": {},
   "source": [
    "<h1 align='center'>\n",
    "    Comau Smart5 SiX\n",
    "<h1>"
   ]
  },
  {
   "attachments": {},
   "cell_type": "markdown",
   "metadata": {},
   "source": [
    "<div align=\"center\">\n",
    "    <img src=\"smart5six.jpg\" height=500px>\n",
    "</div>"
   ]
  },
  {
   "cell_type": "code",
   "execution_count": 1,
   "metadata": {},
   "outputs": [],
   "source": [
    "from FKM import *"
   ]
  },
  {
   "attachments": {},
   "cell_type": "markdown",
   "metadata": {},
   "source": [
    "### Definição da Tabela de Denavit Hartenberg:"
   ]
  },
  {
   "cell_type": "code",
   "execution_count": 2,
   "metadata": {},
   "outputs": [],
   "source": [
    "six = Robot()\n",
    "\n",
    "six.addNonDHLine(0, 0, l2, rad(180), 0, 0)\n",
    "six.addDHLine(theta1, 0, l1, rad(90))\n",
    "six.addDHLine(theta2-rad(90), 0, l3, rad(180))\n",
    "six.addDHLine(theta3+rad(90), 0, l4, -rad(90))\n",
    "six.addDHLine(theta4, -l5, 0, -rad(90))\n",
    "six.addDHLine(theta5, 0, 0, rad(90))\n",
    "six.addDHLine(theta6, -l6, 0, 0)\n",
    "six.addNonDHLine(0, 0, 0, rad(180), 0, rad(180))"
   ]
  },
  {
   "attachments": {},
   "cell_type": "markdown",
   "metadata": {},
   "source": [
    "### Modelo Cinemático Direto:"
   ]
  },
  {
   "cell_type": "code",
   "execution_count": 3,
   "metadata": {},
   "outputs": [
    {
     "data": {
      "text/latex": [
       "$\\displaystyle \\left[\\begin{matrix}- c_{6} \\left(c_{1} s_{5} s_{(2-3)} + c_{5} \\left(- c_{1} c_{4} c_{(2-3)} + s_{1} s_{4}\\right)\\right) - s_{6} \\left(c_{1} c_{(2-3)} s_{4} + c_{4} s_{1}\\right) & c_{6} \\left(c_{1} c_{(2-3)} s_{4} + c_{4} s_{1}\\right) - s_{6} \\left(c_{1} s_{5} s_{(2-3)} + c_{5} \\left(- c_{1} c_{4} c_{(2-3)} + s_{1} s_{4}\\right)\\right) & c_{1} c_{5} s_{(2-3)} - s_{5} \\left(- c_{1} c_{4} c_{(2-3)} + s_{1} s_{4}\\right) & c_{1} \\left(- c_{(2-3)} l₄ + l₁ + l₃ s_{2} + l₅ s_{(2-3)}\\right) - l₆ \\left(- c_{1} c_{5} s_{(2-3)} + s_{5} \\left(- c_{1} c_{4} c_{(2-3)} + s_{1} s_{4}\\right)\\right)\\\\- c_{6} \\left(c_{5} \\left(c_{1} s_{4} + c_{4} c_{(2-3)} s_{1}\\right) - s_{1} s_{5} s_{(2-3)}\\right) + s_{6} \\left(- c_{1} c_{4} + c_{(2-3)} s_{1} s_{4}\\right) & - c_{6} \\left(- c_{1} c_{4} + c_{(2-3)} s_{1} s_{4}\\right) - s_{6} \\left(c_{5} \\left(c_{1} s_{4} + c_{4} c_{(2-3)} s_{1}\\right) - s_{1} s_{5} s_{(2-3)}\\right) & - c_{5} s_{1} s_{(2-3)} - s_{5} \\left(c_{1} s_{4} + c_{4} c_{(2-3)} s_{1}\\right) & - l₆ \\left(c_{5} s_{1} s_{(2-3)} + s_{5} \\left(c_{1} s_{4} + c_{4} c_{(2-3)} s_{1}\\right)\\right) - s_{1} \\left(- c_{(2-3)} l₄ + l₁ + l₃ s_{2} + l₅ s_{(2-3)}\\right)\\\\- c_{6} \\left(c_{4} c_{5} s_{(2-3)} + c_{(2-3)} s_{5}\\right) + s_{4} s_{6} s_{(2-3)} & - c_{6} s_{4} s_{(2-3)} - s_{6} \\left(c_{4} c_{5} s_{(2-3)} + c_{(2-3)} s_{5}\\right) & - c_{4} s_{5} s_{(2-3)} + c_{5} c_{(2-3)} & c_{2} l₃ + c_{(2-3)} l₅ + l₂ + l₄ s_{(2-3)} - l₆ \\left(c_{4} s_{5} s_{(2-3)} - c_{5} c_{(2-3)}\\right)\\\\0 & 0 & 0 & 1\\end{matrix}\\right]$"
      ],
      "text/plain": [
       "⎡-c₆⋅(c₁⋅s₅⋅s_{(2-3)} + c₅⋅(-c₁⋅c₄⋅c_{(2-3)} + s₁⋅s₄)) - s₆⋅(c₁⋅c_{(2-3)}⋅s₄ + ↪\n",
       "⎢                                                                              ↪\n",
       "⎢-c₆⋅(c₅⋅(c₁⋅s₄ + c₄⋅c_{(2-3)}⋅s₁) - s₁⋅s₅⋅s_{(2-3)}) + s₆⋅(-c₁⋅c₄ + c_{(2-3)} ↪\n",
       "⎢                                                                              ↪\n",
       "⎢               -c₆⋅(c₄⋅c₅⋅s_{(2-3)} + c_{(2-3)}⋅s₅) + s₄⋅s₆⋅s_{(2-3)}         ↪\n",
       "⎢                                                                              ↪\n",
       "⎣                                         0                                    ↪\n",
       "\n",
       "↪  c₄⋅s₁)  c₆⋅(c₁⋅c_{(2-3)}⋅s₄ + c₄⋅s₁) - s₆⋅(c₁⋅s₅⋅s_{(2-3)} + c₅⋅(-c₁⋅c₄⋅c_{ ↪\n",
       "↪                                                                              ↪\n",
       "↪ ⋅s₁⋅s₄)  -c₆⋅(-c₁⋅c₄ + c_{(2-3)}⋅s₁⋅s₄) - s₆⋅(c₅⋅(c₁⋅s₄ + c₄⋅c_{(2-3)}⋅s₁) - ↪\n",
       "↪                                                                              ↪\n",
       "↪                         -c₆⋅s₄⋅s_{(2-3)} - s₆⋅(c₄⋅c₅⋅s_{(2-3)} + c_{(2-3)}⋅s ↪\n",
       "↪                                                                              ↪\n",
       "↪                                                   0                          ↪\n",
       "\n",
       "↪ (2-3)} + s₁⋅s₄))   c₁⋅c₅⋅s_{(2-3)} - s₅⋅(-c₁⋅c₄⋅c_{(2-3)} + s₁⋅s₄)  c₁⋅(-c_{ ↪\n",
       "↪                                                                              ↪\n",
       "↪  s₁⋅s₅⋅s_{(2-3)})  -c₅⋅s₁⋅s_{(2-3)} - s₅⋅(c₁⋅s₄ + c₄⋅c_{(2-3)}⋅s₁)  -l₆⋅(c₅⋅ ↪\n",
       "↪                                                                              ↪\n",
       "↪ ₅)                         -c₄⋅s₅⋅s_{(2-3)} + c₅⋅c_{(2-3)}                   ↪\n",
       "↪                                                                              ↪\n",
       "↪                                           0                                  ↪\n",
       "\n",
       "↪ (2-3)}⋅l₄ + l₁ + l₃⋅s₂ + l₅⋅s_{(2-3)}) - l₆⋅(-c₁⋅c₅⋅s_{(2-3)} + s₅⋅(-c₁⋅c₄⋅c ↪\n",
       "↪                                                                              ↪\n",
       "↪ s₁⋅s_{(2-3)} + s₅⋅(c₁⋅s₄ + c₄⋅c_{(2-3)}⋅s₁)) - s₁⋅(-c_{(2-3)}⋅l₄ + l₁ + l₃⋅s ↪\n",
       "↪                                                                              ↪\n",
       "↪     c₂⋅l₃ + c_{(2-3)}⋅l₅ + l₂ + l₄⋅s_{(2-3)} - l₆⋅(c₄⋅s₅⋅s_{(2-3)} - c₅⋅c_{( ↪\n",
       "↪                                                                              ↪\n",
       "↪                                           1                                  ↪\n",
       "\n",
       "↪ _{(2-3)} + s₁⋅s₄))⎤\n",
       "↪                   ⎥\n",
       "↪ ₂ + l₅⋅s_{(2-3)}) ⎥\n",
       "↪                   ⎥\n",
       "↪ 2-3)})            ⎥\n",
       "↪                   ⎥\n",
       "↪                   ⎦"
      ]
     },
     "execution_count": 3,
     "metadata": {},
     "output_type": "execute_result"
    }
   ],
   "source": [
    "MCD = six.HTM(0, 8, False)\n",
    "\n",
    "abrev(MCD)"
   ]
  },
  {
   "cell_type": "code",
   "execution_count": 4,
   "metadata": {},
   "outputs": [
    {
     "data": {
      "text/latex": [
       "$\\displaystyle \\left[\\begin{matrix}0 & 0 & 1.0 & l₁ + l₅ + l₆\\\\0 & 1.0 & 0 & 0\\\\-1.0 & 0 & 0 & l₂ + l₃ + l₄\\\\0 & 0 & 0 & 1.0\\end{matrix}\\right]$"
      ],
      "text/plain": [
       "⎡ 0     0   1.0  l₁ + l₅ + l₆⎤\n",
       "⎢                            ⎥\n",
       "⎢ 0    1.0   0        0      ⎥\n",
       "⎢                            ⎥\n",
       "⎢-1.0   0    0   l₂ + l₃ + l₄⎥\n",
       "⎢                            ⎥\n",
       "⎣ 0     0    0       1.0     ⎦"
      ]
     },
     "execution_count": 4,
     "metadata": {},
     "output_type": "execute_result"
    }
   ],
   "source": [
    "HOME = [0, 0, -rad(90), 0, 0, 0]\n",
    "\n",
    "six.POSE(HOME)"
   ]
  },
  {
   "cell_type": "code",
   "execution_count": 5,
   "metadata": {},
   "outputs": [
    {
     "data": {
      "text/latex": [
       "$\\displaystyle \\left[\\begin{matrix}1.0 & 0 & 0 & l₁ - l₄\\\\0 & 1.0 & 0 & 0\\\\0 & 0 & 1.0 & l₂ + l₃ + l₅ + l₆\\\\0 & 0 & 0 & 1.0\\end{matrix}\\right]$"
      ],
      "text/plain": [
       "⎡1.0   0    0        l₁ - l₄     ⎤\n",
       "⎢                                ⎥\n",
       "⎢ 0   1.0   0           0        ⎥\n",
       "⎢                                ⎥\n",
       "⎢ 0    0   1.0  l₂ + l₃ + l₅ + l₆⎥\n",
       "⎢                                ⎥\n",
       "⎣ 0    0    0          1.0       ⎦"
      ]
     },
     "execution_count": 5,
     "metadata": {},
     "output_type": "execute_result"
    }
   ],
   "source": [
    "CALLSYS = [0, 0, 0, 0, 0, 0]\n",
    "\n",
    "six.POSE(CALLSYS)"
   ]
  },
  {
   "cell_type": "code",
   "execution_count": 6,
   "metadata": {},
   "outputs": [
    {
     "data": {
      "text/latex": [
       "$\\displaystyle \\left[\\begin{matrix}0 & -1.0 & 0 & 0\\\\0 & 0 & -1.0 & l₁ + l₃ + l₄ - l₆\\\\1.0 & 0 & 0 & l₂ - l₅\\\\0 & 0 & 0 & 1.0\\end{matrix}\\right]$"
      ],
      "text/plain": [
       "⎡ 0   -1.0   0            0        ⎤\n",
       "⎢                                  ⎥\n",
       "⎢ 0    0    -1.0  l₁ + l₃ + l₄ - l₆⎥\n",
       "⎢                                  ⎥\n",
       "⎢1.0   0     0         l₂ - l₅     ⎥\n",
       "⎢                                  ⎥\n",
       "⎣ 0    0     0           1.0       ⎦"
      ]
     },
     "execution_count": 6,
     "metadata": {},
     "output_type": "execute_result"
    }
   ],
   "source": [
    "six.POSE([rad(-90), rad(90), -rad(90), 0, rad(90), 0])"
   ]
  },
  {
   "attachments": {},
   "cell_type": "markdown",
   "metadata": {},
   "source": [
    "### $$\\text{Obtenção do Jacobiano de velocidades lineares } J_{v_i} = z_{i-1}^0 \\times \\left( o_n^0 - o_{i-1}^0 \\right) \\text{ :}$$"
   ]
  },
  {
   "cell_type": "code",
   "execution_count": 7,
   "metadata": {},
   "outputs": [
    {
     "data": {
      "text/latex": [
       "$\\displaystyle \\left[\\begin{matrix}- l₆ \\left(c_{5} s_{1} s_{(2-3)} + s_{5} \\left(c_{1} s_{4} + c_{4} c_{(2-3)} s_{1}\\right)\\right) - s_{1} \\left(- c_{(2-3)} l₄ + l₁ + l₃ s_{2} + l₅ s_{(2-3)}\\right) & c_{1} \\left(c_{2} l₃ + c_{(2-3)} l₅ + l₄ s_{(2-3)} - l₆ \\left(c_{4} s_{5} s_{(2-3)} - c_{5} c_{(2-3)}\\right)\\right) & c_{1} \\left(- c_{(2-3)} l₅ - l₄ s_{(2-3)} + l₆ \\left(c_{4} s_{5} s_{(2-3)} - c_{5} c_{(2-3)}\\right)\\right) & - l₆ s_{5} \\left(c_{1} c_{(2-3)} s_{4} + c_{4} s_{1}\\right) & - l₆ \\left(c_{1} s_{5} s_{(2-3)} + c_{5} \\left(- c_{1} c_{4} c_{(2-3)} + s_{1} s_{4}\\right)\\right) & 0\\\\- c_{1} \\left(- c_{(2-3)} l₄ + l₁ + l₃ s_{2} + l₅ s_{(2-3)}\\right) + l₆ \\left(- c_{1} c_{5} s_{(2-3)} + s_{5} \\left(- c_{1} c_{4} c_{(2-3)} + s_{1} s_{4}\\right)\\right) & s_{1} \\left(- c_{2} l₃ - c_{(2-3)} l₅ - l₄ s_{(2-3)} + l₆ \\left(c_{4} s_{5} s_{(2-3)} - c_{5} c_{(2-3)}\\right)\\right) & s_{1} \\left(c_{(2-3)} l₅ + l₄ s_{(2-3)} - l₆ \\left(c_{4} s_{5} s_{(2-3)} - c_{5} c_{(2-3)}\\right)\\right) & l₆ s_{5} \\left(- c_{1} c_{4} + c_{(2-3)} s_{1} s_{4}\\right) & - l₆ \\left(c_{5} \\left(c_{1} s_{4} + c_{4} c_{(2-3)} s_{1}\\right) - s_{1} s_{5} s_{(2-3)}\\right) & 0\\\\0 & c_{(2-3)} l₄ - l₃ s_{2} - l₅ s_{(2-3)} - l₆ \\left(c_{4} c_{(2-3)} s_{5} + c_{5} s_{(2-3)}\\right) & - c_{(2-3)} l₄ + l₅ s_{(2-3)} + l₆ \\left(c_{4} c_{(2-3)} s_{5} + c_{5} s_{(2-3)}\\right) & l₆ s_{4} s_{5} s_{(2-3)} & - l₆ \\left(c_{4} c_{5} s_{(2-3)} + c_{(2-3)} s_{5}\\right) & 0\\end{matrix}\\right]$"
      ],
      "text/plain": [
       "⎡ -l₆⋅(c₅⋅s₁⋅s_{(2-3)} + s₅⋅(c₁⋅s₄ + c₄⋅c_{(2-3)}⋅s₁)) - s₁⋅(-c_{(2-3)}⋅l₄ + l ↪\n",
       "⎢                                                                              ↪\n",
       "⎢-c₁⋅(-c_{(2-3)}⋅l₄ + l₁ + l₃⋅s₂ + l₅⋅s_{(2-3)}) + l₆⋅(-c₁⋅c₅⋅s_{(2-3)} + s₅⋅( ↪\n",
       "⎢                                                                              ↪\n",
       "⎣                                                   0                          ↪\n",
       "\n",
       "↪ ₁ + l₃⋅s₂ + l₅⋅s_{(2-3)})   c₁⋅(c₂⋅l₃ + c_{(2-3)}⋅l₅ + l₄⋅s_{(2-3)} - l₆⋅(c₄ ↪\n",
       "↪                                                                              ↪\n",
       "↪ -c₁⋅c₄⋅c_{(2-3)} + s₁⋅s₄))  s₁⋅(-c₂⋅l₃ - c_{(2-3)}⋅l₅ - l₄⋅s_{(2-3)} + l₆⋅(c ↪\n",
       "↪                                                                              ↪\n",
       "↪                                c_{(2-3)}⋅l₄ - l₃⋅s₂ - l₅⋅s_{(2-3)} - l₆⋅(c₄⋅ ↪\n",
       "\n",
       "↪ ⋅s₅⋅s_{(2-3)} - c₅⋅c_{(2-3)}))   c₁⋅(-c_{(2-3)}⋅l₅ - l₄⋅s_{(2-3)} + l₆⋅(c₄⋅s ↪\n",
       "↪                                                                              ↪\n",
       "↪ ₄⋅s₅⋅s_{(2-3)} - c₅⋅c_{(2-3)}))  s₁⋅(c_{(2-3)}⋅l₅ + l₄⋅s_{(2-3)} - l₆⋅(c₄⋅s₅ ↪\n",
       "↪                                                                              ↪\n",
       "↪ c_{(2-3)}⋅s₅ + c₅⋅s_{(2-3)})       -c_{(2-3)}⋅l₄ + l₅⋅s_{(2-3)} + l₆⋅(c₄⋅c_{ ↪\n",
       "\n",
       "↪ ₅⋅s_{(2-3)} - c₅⋅c_{(2-3)}))  -l₆⋅s₅⋅(c₁⋅c_{(2-3)}⋅s₄ + c₄⋅s₁)  -l₆⋅(c₁⋅s₅⋅s ↪\n",
       "↪                                                                              ↪\n",
       "↪ ⋅s_{(2-3)} - c₅⋅c_{(2-3)}))   l₆⋅s₅⋅(-c₁⋅c₄ + c_{(2-3)}⋅s₁⋅s₄)  -l₆⋅(c₅⋅(c₁⋅ ↪\n",
       "↪                                                                              ↪\n",
       "↪ (2-3)}⋅s₅ + c₅⋅s_{(2-3)})            l₆⋅s₄⋅s₅⋅s_{(2-3)}                 -l₆⋅ ↪\n",
       "\n",
       "↪ _{(2-3)} + c₅⋅(-c₁⋅c₄⋅c_{(2-3)} + s₁⋅s₄))  0⎤\n",
       "↪                                             ⎥\n",
       "↪ s₄ + c₄⋅c_{(2-3)}⋅s₁) - s₁⋅s₅⋅s_{(2-3)})   0⎥\n",
       "↪                                             ⎥\n",
       "↪ (c₄⋅c₅⋅s_{(2-3)} + c_{(2-3)}⋅s₅)           0⎦"
      ]
     },
     "execution_count": 7,
     "metadata": {},
     "output_type": "execute_result"
    }
   ],
   "source": [
    "origins = MCD[0:3, 3]\n",
    "\n",
    "jv = []\n",
    "for i in thetas:\n",
    "    jv.append(abrev(simplify(diff(origins, i))))\n",
    "\n",
    "import numpy as np\n",
    "\n",
    "Matrix(np.block(jv))"
   ]
  },
  {
   "attachments": {},
   "cell_type": "markdown",
   "metadata": {},
   "source": [
    "### $$\\text{Obtenção de } Z_{i-1}^0 = R_{i-1}^0k \\text{ :}$$"
   ]
  },
  {
   "cell_type": "code",
   "execution_count": 8,
   "metadata": {},
   "outputs": [
    {
     "data": {
      "text/latex": [
       "$\\displaystyle \\left[ \\left[\\begin{matrix}0\\\\0\\\\1\\end{matrix}\\right], \\  \\left[\\begin{matrix}s_{1}\\\\c_{1}\\\\0\\end{matrix}\\right], \\  \\left[\\begin{matrix}- s_{1}\\\\- c_{1}\\\\0\\end{matrix}\\right], \\  \\left[\\begin{matrix}- c_{1} s_{(2-3)}\\\\s_{1} s_{(2-3)}\\\\- c_{(2-3)}\\end{matrix}\\right], \\  \\left[\\begin{matrix}c_{1} c_{(2-3)} s_{4} + c_{4} s_{1}\\\\c_{1} c_{4} - c_{(2-3)} s_{1} s_{4}\\\\- s_{4} s_{(2-3)}\\end{matrix}\\right], \\  \\left[\\begin{matrix}- c_{1} c_{5} s_{(2-3)} - s_{5} \\left(c_{1} c_{4} c_{(2-3)} - s_{1} s_{4}\\right)\\\\c_{5} s_{1} s_{(2-3)} + s_{5} \\left(c_{1} s_{4} + c_{4} c_{(2-3)} s_{1}\\right)\\\\c_{4} s_{5} s_{(2-3)} - c_{5} c_{(2-3)}\\end{matrix}\\right]\\right]$"
      ],
      "text/plain": [
       "⎡⎡0⎤  ⎡s₁⎤  ⎡-s₁⎤  ⎡-c₁⋅s_{(2-3)}⎤  ⎡c₁⋅c_{(2-3)}⋅s₄ + c₄⋅s₁⎤  ⎡-c₁⋅c₅⋅s_{(2-3 ↪\n",
       "⎢⎢ ⎥  ⎢  ⎥  ⎢   ⎥  ⎢             ⎥  ⎢                       ⎥  ⎢               ↪\n",
       "⎢⎢0⎥, ⎢c₁⎥, ⎢-c₁⎥, ⎢s₁⋅s_{(2-3)} ⎥, ⎢c₁⋅c₄ - c_{(2-3)}⋅s₁⋅s₄⎥, ⎢c₅⋅s₁⋅s_{(2-3) ↪\n",
       "⎢⎢ ⎥  ⎢  ⎥  ⎢   ⎥  ⎢             ⎥  ⎢                       ⎥  ⎢               ↪\n",
       "⎣⎣1⎦  ⎣0 ⎦  ⎣ 0 ⎦  ⎣ -c_{(2-3)}  ⎦  ⎣     -s₄⋅s_{(2-3)}     ⎦  ⎣        c₄⋅s₅⋅ ↪\n",
       "\n",
       "↪ )} - s₅⋅(c₁⋅c₄⋅c_{(2-3)} - s₁⋅s₄)⎤⎤\n",
       "↪                                  ⎥⎥\n",
       "↪ } + s₅⋅(c₁⋅s₄ + c₄⋅c_{(2-3)}⋅s₁) ⎥⎥\n",
       "↪                                  ⎥⎥\n",
       "↪ s_{(2-3)} - c₅⋅c_{(2-3)}         ⎦⎦"
      ]
     },
     "execution_count": 8,
     "metadata": {},
     "output_type": "execute_result"
    }
   ],
   "source": [
    "z = [Matrix([[0], [0], [1]])]\n",
    "n = 8\n",
    "\n",
    "for i in range(2, n-1):\n",
    "    z.append(abrev(simplify(six.HTM(0, i)[:3, 2])))\n",
    "\n",
    "z"
   ]
  },
  {
   "attachments": {},
   "cell_type": "markdown",
   "metadata": {},
   "source": [
    "### $$\\text{Obtenção do Jacobiano de velocidades angulares } J_{\\omega_i} = z_{i-1}^0 \\text{ :}$$"
   ]
  },
  {
   "cell_type": "code",
   "execution_count": 9,
   "metadata": {},
   "outputs": [
    {
     "data": {
      "text/latex": [
       "$\\displaystyle \\left[ \\left[\\begin{matrix}0\\\\0\\\\1\\end{matrix}\\right], \\  \\left[\\begin{matrix}s_{1}\\\\c_{1}\\\\0\\end{matrix}\\right], \\  \\left[\\begin{matrix}- s_{1}\\\\- c_{1}\\\\0\\end{matrix}\\right], \\  \\left[\\begin{matrix}- c_{1} s_{(2-3)}\\\\s_{1} s_{(2-3)}\\\\- c_{(2-3)}\\end{matrix}\\right], \\  \\left[\\begin{matrix}c_{1} c_{(2-3)} s_{4} + c_{4} s_{1}\\\\c_{1} c_{4} - c_{(2-3)} s_{1} s_{4}\\\\- s_{4} s_{(2-3)}\\end{matrix}\\right], \\  \\left[\\begin{matrix}- c_{1} c_{5} s_{(2-3)} - s_{5} \\left(c_{1} c_{4} c_{(2-3)} - s_{1} s_{4}\\right)\\\\c_{5} s_{1} s_{(2-3)} + s_{5} \\left(c_{1} s_{4} + c_{4} c_{(2-3)} s_{1}\\right)\\\\c_{4} s_{5} s_{(2-3)} - c_{5} c_{(2-3)}\\end{matrix}\\right]\\right]$"
      ],
      "text/plain": [
       "⎡⎡0⎤  ⎡s₁⎤  ⎡-s₁⎤  ⎡-c₁⋅s_{(2-3)}⎤  ⎡c₁⋅c_{(2-3)}⋅s₄ + c₄⋅s₁⎤  ⎡-c₁⋅c₅⋅s_{(2-3 ↪\n",
       "⎢⎢ ⎥  ⎢  ⎥  ⎢   ⎥  ⎢             ⎥  ⎢                       ⎥  ⎢               ↪\n",
       "⎢⎢0⎥, ⎢c₁⎥, ⎢-c₁⎥, ⎢s₁⋅s_{(2-3)} ⎥, ⎢c₁⋅c₄ - c_{(2-3)}⋅s₁⋅s₄⎥, ⎢c₅⋅s₁⋅s_{(2-3) ↪\n",
       "⎢⎢ ⎥  ⎢  ⎥  ⎢   ⎥  ⎢             ⎥  ⎢                       ⎥  ⎢               ↪\n",
       "⎣⎣1⎦  ⎣0 ⎦  ⎣ 0 ⎦  ⎣ -c_{(2-3)}  ⎦  ⎣     -s₄⋅s_{(2-3)}     ⎦  ⎣        c₄⋅s₅⋅ ↪\n",
       "\n",
       "↪ )} - s₅⋅(c₁⋅c₄⋅c_{(2-3)} - s₁⋅s₄)⎤⎤\n",
       "↪                                  ⎥⎥\n",
       "↪ } + s₅⋅(c₁⋅s₄ + c₄⋅c_{(2-3)}⋅s₁) ⎥⎥\n",
       "↪                                  ⎥⎥\n",
       "↪ s_{(2-3)} - c₅⋅c_{(2-3)}         ⎦⎦"
      ]
     },
     "execution_count": 9,
     "metadata": {},
     "output_type": "execute_result"
    }
   ],
   "source": [
    "jw = []\n",
    "for i in range(len(z)):\n",
    "    if(six.rotational[i]):\n",
    "        jw.append(simplify(z[i]))\n",
    "    else:\n",
    "        jw.append(Matrix([[0], [0], [0]]))\n",
    "\n",
    "jw"
   ]
  },
  {
   "attachments": {},
   "cell_type": "markdown",
   "metadata": {},
   "source": [
    "### $$\\text{Obtenção do Jacobiano de velocidades completo, tal que } \\xi = J(q)\\dot{q} \\text{ :}$$"
   ]
  },
  {
   "cell_type": "code",
   "execution_count": 10,
   "metadata": {},
   "outputs": [
    {
     "data": {
      "text/latex": [
       "$\\displaystyle \\left[\\begin{matrix}- l₆ \\left(c_{5} s_{1} s_{(2-3)} + s_{5} \\left(c_{1} s_{4} + c_{4} c_{(2-3)} s_{1}\\right)\\right) - s_{1} \\left(- c_{(2-3)} l₄ + l₁ + l₃ s_{2} + l₅ s_{(2-3)}\\right) & c_{1} \\left(c_{2} l₃ + c_{(2-3)} l₅ + l₄ s_{(2-3)} - l₆ \\left(c_{4} s_{5} s_{(2-3)} - c_{5} c_{(2-3)}\\right)\\right) & - c_{1} \\left(c_{(2-3)} l₅ + l₄ s_{(2-3)} - l₆ \\left(c_{4} s_{5} s_{(2-3)} - c_{5} c_{(2-3)}\\right)\\right) & - l₆ s_{5} \\left(c_{1} c_{(2-3)} s_{4} + c_{4} s_{1}\\right) & - l₆ \\left(c_{1} s_{5} s_{(2-3)} - c_{5} \\left(c_{1} c_{4} c_{(2-3)} - s_{1} s_{4}\\right)\\right) & 0\\\\- c_{1} \\left(- c_{(2-3)} l₄ + l₁ + l₃ s_{2} + l₅ s_{(2-3)}\\right) - l₆ \\left(c_{1} c_{5} s_{(2-3)} + s_{5} \\left(c_{1} c_{4} c_{(2-3)} - s_{1} s_{4}\\right)\\right) & - s_{1} \\left(c_{2} l₃ + c_{(2-3)} l₅ + l₄ s_{(2-3)} - l₆ \\left(c_{4} s_{5} s_{(2-3)} - c_{5} c_{(2-3)}\\right)\\right) & s_{1} \\left(c_{(2-3)} l₅ + l₄ s_{(2-3)} - l₆ \\left(c_{4} s_{5} s_{(2-3)} - c_{5} c_{(2-3)}\\right)\\right) & l₆ s_{5} \\left(- c_{1} c_{4} + c_{(2-3)} s_{1} s_{4}\\right) & - l₆ \\left(c_{5} \\left(c_{1} s_{4} + c_{4} c_{(2-3)} s_{1}\\right) - s_{1} s_{5} s_{(2-3)}\\right) & 0\\\\0 & c_{(2-3)} l₄ - l₃ s_{2} - l₅ s_{(2-3)} - l₆ \\left(c_{4} c_{(2-3)} s_{5} + c_{5} s_{(2-3)}\\right) & - c_{(2-3)} l₄ + l₅ s_{(2-3)} + l₆ \\left(c_{4} c_{(2-3)} s_{5} + c_{5} s_{(2-3)}\\right) & l₆ s_{4} s_{5} s_{(2-3)} & - l₆ \\left(c_{4} c_{5} s_{(2-3)} + c_{(2-3)} s_{5}\\right) & 0\\\\0 & s_{1} & - s_{1} & - c_{1} s_{(2-3)} & c_{1} c_{(2-3)} s_{4} + c_{4} s_{1} & - c_{1} c_{5} s_{(2-3)} - s_{5} \\left(c_{1} c_{4} c_{(2-3)} - s_{1} s_{4}\\right)\\\\0 & c_{1} & - c_{1} & s_{1} s_{(2-3)} & c_{1} c_{4} - c_{(2-3)} s_{1} s_{4} & c_{5} s_{1} s_{(2-3)} + s_{5} \\left(c_{1} s_{4} + c_{4} c_{(2-3)} s_{1}\\right)\\\\1 & 0 & 0 & - c_{(2-3)} & - s_{4} s_{(2-3)} & c_{4} s_{5} s_{(2-3)} - c_{5} c_{(2-3)}\\end{matrix}\\right]$"
      ],
      "text/plain": [
       "⎡-l₆⋅(c₅⋅s₁⋅s_{(2-3)} + s₅⋅(c₁⋅s₄ + c₄⋅c_{(2-3)}⋅s₁)) - s₁⋅(-c_{(2-3)}⋅l₄ + l₁ ↪\n",
       "⎢                                                                              ↪\n",
       "⎢-c₁⋅(-c_{(2-3)}⋅l₄ + l₁ + l₃⋅s₂ + l₅⋅s_{(2-3)}) - l₆⋅(c₁⋅c₅⋅s_{(2-3)} + s₅⋅(c ↪\n",
       "⎢                                                                              ↪\n",
       "⎢                                                  0                           ↪\n",
       "⎢                                                                              ↪\n",
       "⎢                                                  0                           ↪\n",
       "⎢                                                                              ↪\n",
       "⎢                                                  0                           ↪\n",
       "⎢                                                                              ↪\n",
       "⎣                                                  1                           ↪\n",
       "\n",
       "↪  + l₃⋅s₂ + l₅⋅s_{(2-3)})  c₁⋅(c₂⋅l₃ + c_{(2-3)}⋅l₅ + l₄⋅s_{(2-3)} - l₆⋅(c₄⋅s ↪\n",
       "↪                                                                              ↪\n",
       "↪ ₁⋅c₄⋅c_{(2-3)} - s₁⋅s₄))  -s₁⋅(c₂⋅l₃ + c_{(2-3)}⋅l₅ + l₄⋅s_{(2-3)} - l₆⋅(c₄⋅ ↪\n",
       "↪                                                                              ↪\n",
       "↪                              c_{(2-3)}⋅l₄ - l₃⋅s₂ - l₅⋅s_{(2-3)} - l₆⋅(c₄⋅c_ ↪\n",
       "↪                                                                              ↪\n",
       "↪                                                                 s₁           ↪\n",
       "↪                                                                              ↪\n",
       "↪                                                                 c₁           ↪\n",
       "↪                                                                              ↪\n",
       "↪                                                                  0           ↪\n",
       "\n",
       "↪ ₅⋅s_{(2-3)} - c₅⋅c_{(2-3)}))   -c₁⋅(c_{(2-3)}⋅l₅ + l₄⋅s_{(2-3)} - l₆⋅(c₄⋅s₅⋅ ↪\n",
       "↪                                                                              ↪\n",
       "↪ s₅⋅s_{(2-3)} - c₅⋅c_{(2-3)}))  s₁⋅(c_{(2-3)}⋅l₅ + l₄⋅s_{(2-3)} - l₆⋅(c₄⋅s₅⋅s ↪\n",
       "↪                                                                              ↪\n",
       "↪ {(2-3)}⋅s₅ + c₅⋅s_{(2-3)})       -c_{(2-3)}⋅l₄ + l₅⋅s_{(2-3)} + l₆⋅(c₄⋅c_{(2 ↪\n",
       "↪                                                                              ↪\n",
       "↪                                                                  -s₁         ↪\n",
       "↪                                                                              ↪\n",
       "↪                                                                  -c₁         ↪\n",
       "↪                                                                              ↪\n",
       "↪                                                                   0          ↪\n",
       "\n",
       "↪ s_{(2-3)} - c₅⋅c_{(2-3)}))  -l₆⋅s₅⋅(c₁⋅c_{(2-3)}⋅s₄ + c₄⋅s₁)  -l₆⋅(c₁⋅s₅⋅s_{ ↪\n",
       "↪                                                                              ↪\n",
       "↪ _{(2-3)} - c₅⋅c_{(2-3)}))   l₆⋅s₅⋅(-c₁⋅c₄ + c_{(2-3)}⋅s₁⋅s₄)  -l₆⋅(c₅⋅(c₁⋅s₄ ↪\n",
       "↪                                                                              ↪\n",
       "↪ -3)}⋅s₅ + c₅⋅s_{(2-3)})            l₆⋅s₄⋅s₅⋅s_{(2-3)}                 -l₆⋅(c ↪\n",
       "↪                                                                              ↪\n",
       "↪                                      -c₁⋅s_{(2-3)}                           ↪\n",
       "↪                                                                              ↪\n",
       "↪                                       s₁⋅s_{(2-3)}                           ↪\n",
       "↪                                                                              ↪\n",
       "↪                                        -c_{(2-3)}                            ↪\n",
       "\n",
       "↪ (2-3)} - c₅⋅(c₁⋅c₄⋅c_{(2-3)} - s₁⋅s₄))                         0             ↪\n",
       "↪                                                                              ↪\n",
       "↪  + c₄⋅c_{(2-3)}⋅s₁) - s₁⋅s₅⋅s_{(2-3)})                         0             ↪\n",
       "↪                                                                              ↪\n",
       "↪ ₄⋅c₅⋅s_{(2-3)} + c_{(2-3)}⋅s₅)                                 0             ↪\n",
       "↪                                                                              ↪\n",
       "↪ c₁⋅c_{(2-3)}⋅s₄ + c₄⋅s₁                 -c₁⋅c₅⋅s_{(2-3)} - s₅⋅(c₁⋅c₄⋅c_{(2-3 ↪\n",
       "↪                                                                              ↪\n",
       "↪ c₁⋅c₄ - c_{(2-3)}⋅s₁⋅s₄                 c₅⋅s₁⋅s_{(2-3)} + s₅⋅(c₁⋅s₄ + c₄⋅c_{ ↪\n",
       "↪                                                                              ↪\n",
       "↪      -s₄⋅s_{(2-3)}                              c₄⋅s₅⋅s_{(2-3)} - c₅⋅c_{(2-3 ↪\n",
       "\n",
       "↪            ⎤\n",
       "↪            ⎥\n",
       "↪            ⎥\n",
       "↪            ⎥\n",
       "↪            ⎥\n",
       "↪            ⎥\n",
       "↪ )} - s₁⋅s₄)⎥\n",
       "↪            ⎥\n",
       "↪ (2-3)}⋅s₁) ⎥\n",
       "↪            ⎥\n",
       "↪ )}         ⎦"
      ]
     },
     "execution_count": 10,
     "metadata": {},
     "output_type": "execute_result"
    }
   ],
   "source": [
    "J = []\n",
    "for k in range(3):\n",
    "    J.append([])\n",
    "    for i in range(6):\n",
    "        J[k].append(simplify(jv[i][k]))\n",
    "for k in range(3):\n",
    "    J.append([])\n",
    "    for i in range(6):\n",
    "        J[k+3].append(simplify(jw[i][k]))\n",
    "\n",
    "Matrix(J)"
   ]
  }
 ],
 "metadata": {
  "kernelspec": {
   "display_name": "Python 3",
   "language": "python",
   "name": "python3"
  },
  "language_info": {
   "codemirror_mode": {
    "name": "ipython",
    "version": 3
   },
   "file_extension": ".py",
   "mimetype": "text/x-python",
   "name": "python",
   "nbconvert_exporter": "python",
   "pygments_lexer": "ipython3",
   "version": "3.13.2"
  },
  "orig_nbformat": 4
 },
 "nbformat": 4,
 "nbformat_minor": 2
}
