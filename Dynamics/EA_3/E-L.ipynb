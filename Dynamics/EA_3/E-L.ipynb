{
 "cells": [
  {
   "cell_type": "code",
   "execution_count": 1,
   "metadata": {},
   "outputs": [],
   "source": [
    "from FKM import *\n",
    "\n",
    "init_printing()"
   ]
  },
  {
   "cell_type": "code",
   "execution_count": 2,
   "metadata": {},
   "outputs": [],
   "source": [
    "t = Symbol('t')\n",
    "q1 = Function('q1')(t)\n",
    "q2 = Function('q2')(t)\n",
    "l1 = Symbol('l1')\n",
    "l2 = Symbol('l2')\n",
    "lc1 = Symbol('lc1')\n",
    "lc2 = Symbol('lc2')\n",
    "m1 = Symbol('m1')\n",
    "m2 = Symbol('m2')\n",
    "i1 = Symbol('I1')\n",
    "i2 = Symbol('I2')\n",
    "g = Symbol('g')\n",
    "\n",
    "q = np.array([[0], [q1], [q2]])\n",
    "qd = np.array([[0], [diff(q1, t)], [diff(q2, t)]])\n",
    "qdd = np.array([[0], [diff(diff(q1, t), t)], [diff(diff(q2, t), t)]])\n",
    "m = [0, m1, m2]\n",
    "I = [0, i1, i2]\n",
    "\n",
    "def show(matriz):\n",
    "    O = Matrix(matriz)\n",
    "    O = O.subs(diff(diff(q1, t), t), Symbol('\\ddot{q_1}'))\n",
    "    O = O.subs(diff(diff(q2, t), t), Symbol('\\ddot{q_2}'))\n",
    "    O = O.subs(diff(q1, t), Symbol('\\dot{q_1}'))\n",
    "    O = O.subs(diff(q2, t), Symbol('\\dot{q_2}'))\n",
    "    O = simplify(O)\n",
    "    O = O.subs(sin(q1), Symbol('s1'))\n",
    "    O = O.subs(sin(q2), Symbol('s2'))\n",
    "    O = O.subs(cos(q1), Symbol('c1'))\n",
    "    O = O.subs(cos(q2), Symbol('c2'))\n",
    "    O = O.subs(q1, Symbol('q1'))\n",
    "    O = O.subs(q2, Symbol('q2'))\n",
    "    return O"
   ]
  },
  {
   "attachments": {},
   "cell_type": "markdown",
   "metadata": {},
   "source": [
    "<h2 align='center'> Extraindo o MCD: </h2>"
   ]
  },
  {
   "cell_type": "code",
   "execution_count": 3,
   "metadata": {},
   "outputs": [],
   "source": [
    "RP = Robot((\n",
    "    [q1, 0, l1, rad(-90)],\n",
    "    [0, q2, 0, 0]\n",
    "))\n",
    "\n",
    "A1 = RP.HTM(0, 1, False)\n",
    "A2 = RP.HTM(1, 2, False)\n",
    "H02 = RP.HTM(0, 2, False)"
   ]
  },
  {
   "attachments": {},
   "cell_type": "markdown",
   "metadata": {},
   "source": [
    "### $$A_1 \\text{ :}$$"
   ]
  },
  {
   "cell_type": "code",
   "execution_count": 4,
   "metadata": {},
   "outputs": [
    {
     "data": {
      "text/latex": [
       "$\\displaystyle \\left[\\begin{matrix}c_{1} & 0 & - s_{1} & c_{1} l_{1}\\\\s_{1} & 0 & c_{1} & l_{1} s_{1}\\\\0 & -1 & 0 & 0\\\\0 & 0 & 0 & 1\\end{matrix}\\right]$"
      ],
      "text/plain": [
       "⎡c₁  0   -s₁  c₁⋅l₁⎤\n",
       "⎢                  ⎥\n",
       "⎢s₁  0   c₁   l₁⋅s₁⎥\n",
       "⎢                  ⎥\n",
       "⎢0   -1   0     0  ⎥\n",
       "⎢                  ⎥\n",
       "⎣0   0    0     1  ⎦"
      ]
     },
     "execution_count": 4,
     "metadata": {},
     "output_type": "execute_result"
    }
   ],
   "source": [
    "show(A1)"
   ]
  },
  {
   "attachments": {},
   "cell_type": "markdown",
   "metadata": {},
   "source": [
    "### $$A_2 \\text{ :}$$"
   ]
  },
  {
   "cell_type": "code",
   "execution_count": 5,
   "metadata": {},
   "outputs": [
    {
     "data": {
      "text/latex": [
       "$\\displaystyle \\left[\\begin{matrix}1 & 0 & 0 & 0\\\\0 & 1 & 0 & 0\\\\0 & 0 & 1 & q_{2}\\\\0 & 0 & 0 & 1\\end{matrix}\\right]$"
      ],
      "text/plain": [
       "⎡1  0  0  0 ⎤\n",
       "⎢           ⎥\n",
       "⎢0  1  0  0 ⎥\n",
       "⎢           ⎥\n",
       "⎢0  0  1  q₂⎥\n",
       "⎢           ⎥\n",
       "⎣0  0  0  1 ⎦"
      ]
     },
     "execution_count": 5,
     "metadata": {},
     "output_type": "execute_result"
    }
   ],
   "source": [
    "show(A2)"
   ]
  },
  {
   "attachments": {},
   "cell_type": "markdown",
   "metadata": {},
   "source": [
    "### $$H_2^0 \\text{ :}$$"
   ]
  },
  {
   "cell_type": "code",
   "execution_count": 6,
   "metadata": {},
   "outputs": [
    {
     "data": {
      "text/latex": [
       "$\\displaystyle \\left[\\begin{matrix}c_{1} & 0 & - s_{1} & c_{1} l_{1} - q_{2} s_{1}\\\\s_{1} & 0 & c_{1} & c_{1} q_{2} + l_{1} s_{1}\\\\0 & -1 & 0 & 0\\\\0 & 0 & 0 & 1\\end{matrix}\\right]$"
      ],
      "text/plain": [
       "⎡c₁  0   -s₁  c₁⋅l₁ - q₂⋅s₁⎤\n",
       "⎢                          ⎥\n",
       "⎢s₁  0   c₁   c₁⋅q₂ + l₁⋅s₁⎥\n",
       "⎢                          ⎥\n",
       "⎢0   -1   0         0      ⎥\n",
       "⎢                          ⎥\n",
       "⎣0   0    0         1      ⎦"
      ]
     },
     "execution_count": 6,
     "metadata": {},
     "output_type": "execute_result"
    }
   ],
   "source": [
    "show(H02)"
   ]
  },
  {
   "attachments": {},
   "cell_type": "markdown",
   "metadata": {},
   "source": [
    "<h2 align='center'> Obtendo as jacobianas de velocidades: </h2>"
   ]
  },
  {
   "attachments": {},
   "cell_type": "markdown",
   "metadata": {},
   "source": [
    "### $$Jv_{c,1} \\text{ :}$$"
   ]
  },
  {
   "cell_type": "code",
   "execution_count": 7,
   "metadata": {},
   "outputs": [
    {
     "data": {
      "text/latex": [
       "$\\displaystyle \\left[\\begin{matrix}- \\frac{l_{1} s_{1}}{2} & 0\\\\\\frac{c_{1} l_{1}}{2} & 0\\\\0 & 0\\end{matrix}\\right]$"
      ],
      "text/plain": [
       "⎡-l₁⋅s₁    ⎤\n",
       "⎢───────  0⎥\n",
       "⎢   2      ⎥\n",
       "⎢          ⎥\n",
       "⎢ c₁⋅l₁    ⎥\n",
       "⎢ ─────   0⎥\n",
       "⎢   2      ⎥\n",
       "⎢          ⎥\n",
       "⎣   0     0⎦"
      ]
     },
     "execution_count": 7,
     "metadata": {},
     "output_type": "execute_result"
    }
   ],
   "source": [
    "oc1 = A1[0:3, 3].subs(l1, (l1/2))\n",
    "\n",
    "jvc1 = Matrix(np.block([diff(oc1, q1), diff(oc1, q2)]))\n",
    "\n",
    "show(jvc1)"
   ]
  },
  {
   "attachments": {},
   "cell_type": "markdown",
   "metadata": {},
   "source": [
    "### $$Jv_{c,2} \\text{ :}$$"
   ]
  },
  {
   "cell_type": "code",
   "execution_count": 8,
   "metadata": {},
   "outputs": [
    {
     "data": {
      "text/latex": [
       "$\\displaystyle \\left[\\begin{matrix}- \\frac{c_{1} q_{2}}{2} - l_{1} s_{1} & - \\frac{s_{1}}{2}\\\\c_{1} l_{1} - \\frac{q_{2} s_{1}}{2} & \\frac{c_{1}}{2}\\\\0 & 0\\end{matrix}\\right]$"
      ],
      "text/plain": [
       "⎡  c₁⋅q₂          -s₁ ⎤\n",
       "⎢- ───── - l₁⋅s₁  ────⎥\n",
       "⎢    2             2  ⎥\n",
       "⎢                     ⎥\n",
       "⎢         q₂⋅s₁    c₁ ⎥\n",
       "⎢ c₁⋅l₁ - ─────    ── ⎥\n",
       "⎢           2      2  ⎥\n",
       "⎢                     ⎥\n",
       "⎣       0          0  ⎦"
      ]
     },
     "execution_count": 8,
     "metadata": {},
     "output_type": "execute_result"
    }
   ],
   "source": [
    "oc2 = H02[0:3, 3].subs(q2, (q2/2))\n",
    "\n",
    "jvc2 = Matrix(np.block([diff(oc2, q1), diff(oc2, q2)]))\n",
    "\n",
    "show(jvc2)"
   ]
  },
  {
   "attachments": {},
   "cell_type": "markdown",
   "metadata": {},
   "source": [
    "### $$\\omega_1 \\text{ :}$$"
   ]
  },
  {
   "cell_type": "code",
   "execution_count": 9,
   "metadata": {},
   "outputs": [
    {
     "data": {
      "text/latex": [
       "$\\displaystyle \\left[\\begin{matrix}0\\\\0\\\\\\dot{q_1}\\end{matrix}\\right]$"
      ],
      "text/plain": [
       "⎡    0    ⎤\n",
       "⎢         ⎥\n",
       "⎢    0    ⎥\n",
       "⎢         ⎥\n",
       "⎣\\dot{q_1}⎦"
      ]
     },
     "execution_count": 9,
     "metadata": {},
     "output_type": "execute_result"
    }
   ],
   "source": [
    "w1 = Matrix(np.array([[0], [0], [1]])*qd[1])\n",
    "\n",
    "show(w1)"
   ]
  },
  {
   "attachments": {},
   "cell_type": "markdown",
   "metadata": {},
   "source": [
    "### $$\\omega_2 \\text{ :}$$"
   ]
  },
  {
   "cell_type": "code",
   "execution_count": 10,
   "metadata": {},
   "outputs": [
    {
     "data": {
      "text/latex": [
       "$\\displaystyle \\left[\\begin{matrix}0\\\\0\\\\\\dot{q_1}\\end{matrix}\\right]$"
      ],
      "text/plain": [
       "⎡    0    ⎤\n",
       "⎢         ⎥\n",
       "⎢    0    ⎥\n",
       "⎢         ⎥\n",
       "⎣\\dot{q_1}⎦"
      ]
     },
     "execution_count": 10,
     "metadata": {},
     "output_type": "execute_result"
    }
   ],
   "source": [
    "w2 = Matrix(w1)\n",
    "\n",
    "show(w2)"
   ]
  },
  {
   "attachments": {},
   "cell_type": "markdown",
   "metadata": {},
   "source": [
    "### $$J\\omega_{c,1} \\text{ :}$$"
   ]
  },
  {
   "cell_type": "code",
   "execution_count": 11,
   "metadata": {},
   "outputs": [
    {
     "data": {
      "text/latex": [
       "$\\displaystyle \\left[\\begin{matrix}0 & 0\\\\0 & 0\\\\1 & 0\\end{matrix}\\right]$"
      ],
      "text/plain": [
       "⎡0  0⎤\n",
       "⎢    ⎥\n",
       "⎢0  0⎥\n",
       "⎢    ⎥\n",
       "⎣1  0⎦"
      ]
     },
     "execution_count": 11,
     "metadata": {},
     "output_type": "execute_result"
    }
   ],
   "source": [
    "jwc1 = Matrix(np.block([diff(w1, qd[1][0]), diff(w1, qd[2][0])]))\n",
    "\n",
    "show(jwc1)"
   ]
  },
  {
   "attachments": {},
   "cell_type": "markdown",
   "metadata": {},
   "source": [
    "### $$J\\omega_{c,2} \\text{ :}$$"
   ]
  },
  {
   "cell_type": "code",
   "execution_count": 12,
   "metadata": {},
   "outputs": [
    {
     "data": {
      "text/latex": [
       "$\\displaystyle \\left[\\begin{matrix}0 & 0\\\\0 & 0\\\\1 & 0\\end{matrix}\\right]$"
      ],
      "text/plain": [
       "⎡0  0⎤\n",
       "⎢    ⎥\n",
       "⎢0  0⎥\n",
       "⎢    ⎥\n",
       "⎣1  0⎦"
      ]
     },
     "execution_count": 12,
     "metadata": {},
     "output_type": "execute_result"
    }
   ],
   "source": [
    "jwc2 = Matrix(np.block([diff(w2, qd[1][0]), diff(w2, qd[2][0])]))\n",
    "\n",
    "show(jwc2)"
   ]
  },
  {
   "attachments": {},
   "cell_type": "markdown",
   "metadata": {},
   "source": [
    "### $$k_{t,1} \\text{ :}$$"
   ]
  },
  {
   "cell_type": "code",
   "execution_count": 13,
   "metadata": {},
   "outputs": [
    {
     "data": {
      "text/latex": [
       "$\\displaystyle \\left[\\begin{matrix}\\frac{l_{1}^{2} m_{1}}{4} & 0\\\\0 & 0\\end{matrix}\\right]$"
      ],
      "text/plain": [
       "⎡  2      ⎤\n",
       "⎢l₁ ⋅m₁   ⎥\n",
       "⎢──────  0⎥\n",
       "⎢  4      ⎥\n",
       "⎢         ⎥\n",
       "⎣  0     0⎦"
      ]
     },
     "execution_count": 13,
     "metadata": {},
     "output_type": "execute_result"
    }
   ],
   "source": [
    "kt1 = m1*(jvc1.T@jvc1)\n",
    "\n",
    "show(kt1)"
   ]
  },
  {
   "attachments": {},
   "cell_type": "markdown",
   "metadata": {},
   "source": [
    "### $$k_{t,2} \\text{ :}$$"
   ]
  },
  {
   "cell_type": "code",
   "execution_count": 14,
   "metadata": {},
   "outputs": [
    {
     "data": {
      "text/latex": [
       "$\\displaystyle \\left[\\begin{matrix}\\frac{m_{2} \\cdot \\left(4 l_{1}^{2} + q_{2}^{2}\\right)}{4} & \\frac{l_{1} m_{2}}{2}\\\\\\frac{l_{1} m_{2}}{2} & \\frac{m_{2}}{4}\\end{matrix}\\right]$"
      ],
      "text/plain": [
       "⎡   ⎛    2     2⎞       ⎤\n",
       "⎢m₂⋅⎝4⋅l₁  + q₂ ⎠  l₁⋅m₂⎥\n",
       "⎢────────────────  ─────⎥\n",
       "⎢       4            2  ⎥\n",
       "⎢                       ⎥\n",
       "⎢     l₁⋅m₂         m₂  ⎥\n",
       "⎢     ─────         ──  ⎥\n",
       "⎣       2           4   ⎦"
      ]
     },
     "execution_count": 14,
     "metadata": {},
     "output_type": "execute_result"
    }
   ],
   "source": [
    "kt2 = m2*(jvc2.T@jvc2)\n",
    "\n",
    "show(kt2)"
   ]
  },
  {
   "attachments": {},
   "cell_type": "markdown",
   "metadata": {},
   "source": [
    "### $$k_{a,1} \\text{ :}$$"
   ]
  },
  {
   "cell_type": "code",
   "execution_count": 15,
   "metadata": {},
   "outputs": [
    {
     "data": {
      "text/latex": [
       "$\\displaystyle \\left[\\begin{matrix}I_{1} & 0\\\\0 & 0\\end{matrix}\\right]$"
      ],
      "text/plain": [
       "⎡I₁  0⎤\n",
       "⎢     ⎥\n",
       "⎣0   0⎦"
      ]
     },
     "execution_count": 15,
     "metadata": {},
     "output_type": "execute_result"
    }
   ],
   "source": [
    "R1 = A1[0:3, 0:3]\n",
    "\n",
    "ka1 = i1*(jwc1.T@R1@R1.T@jwc1)\n",
    "\n",
    "show(ka1)"
   ]
  },
  {
   "attachments": {},
   "cell_type": "markdown",
   "metadata": {},
   "source": [
    "### $$k_{a,2} \\text{ :}$$"
   ]
  },
  {
   "cell_type": "code",
   "execution_count": 16,
   "metadata": {},
   "outputs": [
    {
     "data": {
      "text/latex": [
       "$\\displaystyle \\left[\\begin{matrix}I_{2} & 0\\\\0 & 0\\end{matrix}\\right]$"
      ],
      "text/plain": [
       "⎡I₂  0⎤\n",
       "⎢     ⎥\n",
       "⎣0   0⎦"
      ]
     },
     "execution_count": 16,
     "metadata": {},
     "output_type": "execute_result"
    }
   ],
   "source": [
    "R2 = H02[0:3, 0:3]\n",
    "\n",
    "ka2 = i2*(jwc2.T@R2@R2.T@jwc2)\n",
    "\n",
    "show(ka2)"
   ]
  },
  {
   "attachments": {},
   "cell_type": "markdown",
   "metadata": {},
   "source": [
    "### $$D(q) \\text{ :}$$"
   ]
  },
  {
   "cell_type": "code",
   "execution_count": 17,
   "metadata": {},
   "outputs": [
    {
     "data": {
      "text/latex": [
       "$\\displaystyle \\left[\\begin{matrix}I_{1} + I_{2} + \\frac{l_{1}^{2} m_{1}}{4} + \\frac{m_{2} \\cdot \\left(4 l_{1}^{2} + q_{2}^{2}\\right)}{4} & \\frac{l_{1} m_{2}}{2}\\\\\\frac{l_{1} m_{2}}{2} & \\frac{m_{2}}{4}\\end{matrix}\\right]$"
      ],
      "text/plain": [
       "⎡            2         ⎛    2     2⎞       ⎤\n",
       "⎢          l₁ ⋅m₁   m₂⋅⎝4⋅l₁  + q₂ ⎠  l₁⋅m₂⎥\n",
       "⎢I₁ + I₂ + ────── + ────────────────  ─────⎥\n",
       "⎢            4             4            2  ⎥\n",
       "⎢                                          ⎥\n",
       "⎢               l₁⋅m₂                  m₂  ⎥\n",
       "⎢               ─────                  ──  ⎥\n",
       "⎣                 2                    4   ⎦"
      ]
     },
     "execution_count": 17,
     "metadata": {},
     "output_type": "execute_result"
    }
   ],
   "source": [
    "aux = (kt1+kt2+ka1+ka2)\n",
    "\n",
    "D = np.array([[aux[0], aux[1]], [aux[2], aux[3]]])\n",
    "\n",
    "show(D)"
   ]
  },
  {
   "attachments": {},
   "cell_type": "markdown",
   "metadata": {},
   "source": [
    "### $$C(q, \\dot{q}) \\text{ :}$$"
   ]
  },
  {
   "cell_type": "code",
   "execution_count": 18,
   "metadata": {},
   "outputs": [
    {
     "name": "stdout",
     "output_type": "stream",
     "text": [
      "c111 = 0\n",
      "c211 = 0.25*m2*q2(t)\n",
      "c121 = 0.25*m2*q2(t)\n",
      "c221 = 0\n",
      "c112 = -0.25*m2*q2(t)\n",
      "c212 = 0\n",
      "c122 = 0\n",
      "c222 = 0\n"
     ]
    }
   ],
   "source": [
    "c = (np.ones((2, 2, 2))*t)\n",
    "\n",
    "for k in range(2):\n",
    "    for j in range(2):\n",
    "        for i in range(2):\n",
    "            c[i][j][k] = simplify((1/2)*(diff(D[k][j], q[i+1][0]) + diff(D[k][i], q[j+1][0]) - diff(D[i][j], q[k+1][0])))\n",
    "            print(f'c{i+1}{j+1}{k+1} = {c[i][j][k]}')"
   ]
  },
  {
   "cell_type": "code",
   "execution_count": 19,
   "metadata": {},
   "outputs": [
    {
     "data": {
      "text/latex": [
       "$\\displaystyle \\left[\\begin{matrix}0.25 \\dot{q_2} m_{2} q_{2} & 0.25 \\dot{q_1} m_{2} q_{2}\\\\- 0.25 \\dot{q_1} m_{2} q_{2} & 0\\end{matrix}\\right]$"
      ],
      "text/plain": [
       "⎡0.25⋅\\dot{q_2}⋅m₂⋅q₂   0.25⋅\\dot{q_1}⋅m₂⋅q₂⎤\n",
       "⎢                                           ⎥\n",
       "⎣-0.25⋅\\dot{q_1}⋅m₂⋅q₂           0          ⎦"
      ]
     },
     "execution_count": 19,
     "metadata": {},
     "output_type": "execute_result"
    }
   ],
   "source": [
    "C = np.ones((2, 2))*t\n",
    "\n",
    "for k in range(2):\n",
    "    for j in range(2):\n",
    "        C[k][j] = ((c[0][j][k]*qd[1][0]) + (c[1][j][k]*qd[2][0]))\n",
    "\n",
    "show(C)"
   ]
  },
  {
   "attachments": {},
   "cell_type": "markdown",
   "metadata": {},
   "source": [
    "### $$G(q) \\text{ :}$$"
   ]
  },
  {
   "cell_type": "code",
   "execution_count": 20,
   "metadata": {},
   "outputs": [
    {
     "data": {
      "text/latex": [
       "$\\displaystyle \\left[\\begin{matrix}\\frac{c_{1} g l_{1} m_{1}}{2} + c_{1} g l_{1} m_{2} - \\frac{g m_{2} q_{2} s_{1}}{2}\\\\\\frac{c_{1} g m_{2}}{2}\\end{matrix}\\right]$"
      ],
      "text/plain": [
       "⎡c₁⋅g⋅l₁⋅m₁                g⋅m₂⋅q₂⋅s₁⎤\n",
       "⎢────────── + c₁⋅g⋅l₁⋅m₂ - ──────────⎥\n",
       "⎢    2                         2     ⎥\n",
       "⎢                                    ⎥\n",
       "⎢              c₁⋅g⋅m₂               ⎥\n",
       "⎢              ───────               ⎥\n",
       "⎣                 2                  ⎦"
      ]
     },
     "execution_count": 20,
     "metadata": {},
     "output_type": "execute_result"
    }
   ],
   "source": [
    "g0 = np.array([[0], [-g], [0]])\n",
    "\n",
    "p1 = -m1*(g0.T@oc1)\n",
    "p2 = -m2*(g0.T@oc2)\n",
    "P = (p1 + p2)\n",
    "\n",
    "G = np.array([[diff(P[0], q1)], [diff(P[0], q2)]])\n",
    "\n",
    "show(G).expand()"
   ]
  },
  {
   "attachments": {},
   "cell_type": "markdown",
   "metadata": {},
   "source": [
    "### $$\\text{A partir da equação da dinâmica :}$$ $$ D(q)\\ddot{q} + C(q,\\dot{q})\\dot{q} + G(q) = \\begin{bmatrix} \\tau_1\\\\ f_2 \\end{bmatrix}$$"
   ]
  },
  {
   "cell_type": "code",
   "execution_count": 21,
   "metadata": {},
   "outputs": [
    {
     "data": {
      "text/latex": [
       "$\\displaystyle \\left[\\begin{matrix}\\frac{\\ddot{q_1} \\cdot \\left(4 I_{1} + 4 I_{2} + l_{1}^{2} m_{1} + m_{2} \\cdot \\left(4 l_{1}^{2} + q_{2}^{2}\\right)\\right)}{4} + \\frac{\\ddot{q_2} l_{1} m_{2}}{2} + 0.5 \\dot{q_1} \\dot{q_2} m_{2} q_{2} + \\frac{c_{1} g l_{1} m_{1}}{2} + \\frac{g m_{2} \\cdot \\left(2 c_{1} l_{1} - q_{2} s_{1}\\right)}{2}\\\\m_{2} \\cdot \\left(0.5 \\ddot{q_1} l_{1} + 0.25 \\ddot{q_2} - 0.25 \\dot{q_1}^{2} q_{2} + 0.5 c_{1} g\\right)\\end{matrix}\\right]$"
      ],
      "text/plain": [
       "⎡           ⎛                2         ⎛    2     2⎞⎞                         \n",
       "⎢\\ddot{q_1}⋅⎝4⋅I₁ + 4⋅I₂ + l₁ ⋅m₁ + m₂⋅⎝4⋅l₁  + q₂ ⎠⎠   \\ddot{q_2}⋅l₁⋅m₂      \n",
       "⎢──────────────────────────────────────────────────── + ──────────────── + 0.5\n",
       "⎢                         4                                    2              \n",
       "⎢                                                                             \n",
       "⎢                                     ⎛                                       \n",
       "⎣                                  m₂⋅⎝0.5⋅\\ddot{q_1}⋅l₁ + 0.25⋅\\ddot{q_2} - 0\n",
       "\n",
       "                                                                ⎤\n",
       "                             c₁⋅g⋅l₁⋅m₁   g⋅m₂⋅(2⋅c₁⋅l₁ - q₂⋅s₁)⎥\n",
       "⋅\\dot{q_1}⋅\\dot{q_2}⋅m₂⋅q₂ + ────────── + ──────────────────────⎥\n",
       "                                 2                  2           ⎥\n",
       "                                                                ⎥\n",
       "             2              ⎞                                   ⎥\n",
       ".25⋅\\dot{q_1} ⋅q₂ + 0.5⋅c₁⋅g⎠                                   ⎦"
      ]
     },
     "execution_count": 21,
     "metadata": {},
     "output_type": "execute_result"
    }
   ],
   "source": [
    "sol = ((D@qdd[1:3]) + (C@qd[1:3]) + G)\n",
    "\n",
    "show(sol)"
   ]
  },
  {
   "attachments": {},
   "cell_type": "markdown",
   "metadata": {},
   "source": [
    "### $$\\tau_1 \\text{ :}$$"
   ]
  },
  {
   "cell_type": "code",
   "execution_count": 22,
   "metadata": {},
   "outputs": [
    {
     "data": {
      "text/latex": [
       "$\\displaystyle \\left[\\begin{matrix}\\frac{\\ddot{q_1} \\cdot \\left(4 I_{1} + 4 I_{2} + l_{1}^{2} m_{1} + m_{2} \\cdot \\left(4 l_{1}^{2} + q_{2}^{2}\\right)\\right)}{4} + \\frac{\\ddot{q_2} l_{1} m_{2}}{2} + 0.5 \\dot{q_1} \\dot{q_2} m_{2} q_{2} + \\frac{c_{1} g l_{1} m_{1}}{2} + \\frac{g m_{2} \\cdot \\left(2 c_{1} l_{1} - q_{2} s_{1}\\right)}{2}\\end{matrix}\\right]$"
      ],
      "text/plain": [
       "⎡           ⎛                2         ⎛    2     2⎞⎞                         \n",
       "⎢\\ddot{q_1}⋅⎝4⋅I₁ + 4⋅I₂ + l₁ ⋅m₁ + m₂⋅⎝4⋅l₁  + q₂ ⎠⎠   \\ddot{q_2}⋅l₁⋅m₂      \n",
       "⎢──────────────────────────────────────────────────── + ──────────────── + 0.5\n",
       "⎣                         4                                    2              \n",
       "\n",
       "                                                                ⎤\n",
       "                             c₁⋅g⋅l₁⋅m₁   g⋅m₂⋅(2⋅c₁⋅l₁ - q₂⋅s₁)⎥\n",
       "⋅\\dot{q_1}⋅\\dot{q_2}⋅m₂⋅q₂ + ────────── + ──────────────────────⎥\n",
       "                                 2                  2           ⎦"
      ]
     },
     "execution_count": 22,
     "metadata": {},
     "output_type": "execute_result"
    }
   ],
   "source": [
    "show(sol[0])"
   ]
  },
  {
   "attachments": {},
   "cell_type": "markdown",
   "metadata": {},
   "source": [
    "### $$f_2 \\text{ :}$$"
   ]
  },
  {
   "cell_type": "code",
   "execution_count": 23,
   "metadata": {},
   "outputs": [
    {
     "data": {
      "text/latex": [
       "$\\displaystyle \\left[\\begin{matrix}0.5 \\ddot{q_1} l_{1} m_{2} + 0.25 \\ddot{q_2} m_{2} - 0.25 \\dot{q_1}^{2} m_{2} q_{2} + 0.5 c_{1} g m_{2}\\end{matrix}\\right]$"
      ],
      "text/plain": [
       "⎡                                                          2                  \n",
       "⎣0.5⋅\\ddot{q_1}⋅l₁⋅m₂ + 0.25⋅\\ddot{q_2}⋅m₂ - 0.25⋅\\dot{q_1} ⋅m₂⋅q₂ + 0.5⋅c₁⋅g⋅\n",
       "\n",
       "  ⎤\n",
       "m₂⎦"
      ]
     },
     "execution_count": 23,
     "metadata": {},
     "output_type": "execute_result"
    }
   ],
   "source": [
    "show(sol[1]).expand()"
   ]
  }
 ],
 "metadata": {
  "kernelspec": {
   "display_name": "Python 3",
   "language": "python",
   "name": "python3"
  },
  "language_info": {
   "codemirror_mode": {
    "name": "ipython",
    "version": 3
   },
   "file_extension": ".py",
   "mimetype": "text/x-python",
   "name": "python",
   "nbconvert_exporter": "python",
   "pygments_lexer": "ipython3",
   "version": "3.10.6"
  },
  "orig_nbformat": 4
 },
 "nbformat": 4,
 "nbformat_minor": 2
}
