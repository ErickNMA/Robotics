{
 "cells": [
  {
   "cell_type": "code",
   "execution_count": 1,
   "metadata": {},
   "outputs": [],
   "source": [
    "from sympy import *\n",
    "import numpy as np\n",
    "\n",
    "init_printing()"
   ]
  },
  {
   "cell_type": "code",
   "execution_count": 2,
   "metadata": {},
   "outputs": [],
   "source": [
    "t = Symbol('t')\n",
    "q1 = Function('q1')(t)\n",
    "q2 = Function('q2')(t)\n",
    "l1 = Symbol('l1')\n",
    "l2 = Symbol('l2')\n",
    "lc1 = Symbol('lc1')\n",
    "lc2 = Symbol('lc2')\n",
    "m1 = Symbol('m1')\n",
    "m2 = Symbol('m2')\n",
    "i1 = Symbol('I1')\n",
    "i2 = Symbol('I2')\n",
    "g = Symbol('g')\n",
    "\n",
    "q = np.array([[0], [q1], [q2]])\n",
    "qd = np.array([[0], [diff(q1, t)], [diff(q2, t)]])\n",
    "qdd = np.array([[0], [diff(diff(q1, t), t)], [diff(diff(q2, t), t)]])\n",
    "m = [0, m1, m2]\n",
    "I = [0, i1, i2]\n",
    "\n",
    "def show(matriz):\n",
    "    O = Matrix(matriz)\n",
    "    O = O.subs(diff(diff(q1, t), t), Symbol('\\ddot{q_1}'))\n",
    "    O = O.subs(diff(diff(q2, t), t), Symbol('\\ddot{q_2}'))\n",
    "    O = O.subs(diff(q1, t), Symbol('\\dot{q_1}'))\n",
    "    O = O.subs(diff(q2, t), Symbol('\\dot{q_2}'))\n",
    "    O = simplify(O)\n",
    "    O = O.subs(sin(q1), Symbol('s1'))\n",
    "    O = O.subs(sin(q2), Symbol('s2'))\n",
    "    O = O.subs(cos(q1), Symbol('c1'))\n",
    "    O = O.subs(cos(q2), Symbol('c2'))\n",
    "    O = O.subs(q1, Symbol('q1'))\n",
    "    O = O.subs(q2, Symbol('q2'))\n",
    "    return O"
   ]
  },
  {
   "cell_type": "code",
   "execution_count": 3,
   "metadata": {},
   "outputs": [
    {
     "name": "stderr",
     "output_type": "stream",
     "text": [
      "C:\\Users\\Erick\\AppData\\Local\\Temp\\ipykernel_5924\\365761174.py:27: VisibleDeprecationWarning: Creating an ndarray from ragged nested sequences (which is a list-or-tuple of lists-or-tuples-or ndarrays with different lengths or shapes) is deprecated. If you meant to do this, you must specify 'dtype=object' when creating the ndarray.\n",
      "  R = np.array([\n",
      "C:\\Users\\Erick\\AppData\\Local\\Temp\\ipykernel_5924\\365761174.py:39: VisibleDeprecationWarning: Creating an ndarray from ragged nested sequences (which is a list-or-tuple of lists-or-tuples-or ndarrays with different lengths or shapes) is deprecated. If you meant to do this, you must specify 'dtype=object' when creating the ndarray.\n",
      "  r = np.array([\n"
     ]
    }
   ],
   "source": [
    "w = [np.array([[0], [0], [0]])]\n",
    "alpha = [np.array([[0], [0], [0]])]\n",
    "ac = [np.array([[0], [0], [0]])]\n",
    "ae = [np.array([[0], [0], [0]])]\n",
    "gi = [np.array([[0], [0], [-g]])]\n",
    "f = [0, np.array([[0], [0], [0]]), np.array([[0], [0], [0]]), np.array([[0], [0], [0]])]\n",
    "tau = [0, np.array([[0], [0], [0]]), np.array([[0], [0], [0]]), np.array([[0], [0], [0]])]\n",
    "\n",
    "R01 = np.array([\n",
    "    [cos(q1), 0, sin(q1)],\n",
    "    [sin(q1), 0, -cos(q1)],\n",
    "    [0, 1, 0]\n",
    "])\n",
    "\n",
    "R12 = np.array([\n",
    "    [cos(q2), -sin(q2), 0],\n",
    "    [sin(q2), cos(q2), 0],\n",
    "    [0, 0, 1]\n",
    "])\n",
    "\n",
    "R02 = np.array([\n",
    "    [cos(q1)*cos(q2), -cos(q1)*sin(q2), sin(q1)],\n",
    "    [sin(q1)*cos(q2), -sin(q1)*sin(q2), -cos(q1)],\n",
    "    [sin(q2), cos(q2), 0]\n",
    "])\n",
    "\n",
    "R = np.array([\n",
    "    [0, R01, R02],\n",
    "    [0, 0, R12]\n",
    "])\n",
    "\n",
    "r11 = np.array([[0], [lc1], [0]])\n",
    "r22 = np.array([[lc2], [0], [0]])\n",
    "r12 = np.array([[0], [l1], [0]])\n",
    "r23 = np.array([[l2], [0], [0]])\n",
    "r21 = np.array([[0], [(l1-lc1)], [0]])\n",
    "r32 = np.array([[(l2-lc2)], [0], [0]])\n",
    "\n",
    "r = np.array([\n",
    "    [0, 0, 0, 0],\n",
    "    [0, r11, r12, 0],\n",
    "    [0, r21, r22, r23],\n",
    "    [0, 0, r32, 0]\n",
    "])\n",
    "\n",
    "z0 = np.array([[0], [0], [1]])\n",
    "z1 = np.array([[sin(q1)], [-cos(q1)], [0]])\n",
    "z = np.array([z0, z1])"
   ]
  },
  {
   "attachments": {},
   "cell_type": "markdown",
   "metadata": {},
   "source": [
    "<h1 align='center'> Recursão para frente: </h1>"
   ]
  },
  {
   "attachments": {},
   "cell_type": "markdown",
   "metadata": {},
   "source": [
    "### $$\\text{Para } i = 1$$"
   ]
  },
  {
   "attachments": {},
   "cell_type": "markdown",
   "metadata": {},
   "source": [
    "### $$\\text{Calculo de } \\omega_1 \\text{:}$$"
   ]
  },
  {
   "cell_type": "code",
   "execution_count": 4,
   "metadata": {},
   "outputs": [
    {
     "data": {
      "image/png": "[encoded data removed]",
      "text/latex": [
       "$\\displaystyle \\left[\\begin{matrix}0\\\\\\dot{q_1}\\\\0\\end{matrix}\\right]$"
      ],
      "text/plain": [
       "⎡    0    ⎤\n",
       "⎢         ⎥\n",
       "⎢\\dot{q_1}⎥\n",
       "⎢         ⎥\n",
       "⎣    0    ⎦"
      ]
     },
     "execution_count": 4,
     "metadata": {},
     "output_type": "execute_result"
    }
   ],
   "source": [
    "i = 1\n",
    "b = R[0][i].T@z[i-1]\n",
    "w.append(np.array((R[i-1][i].T@w[i-1])+(b*qd[i])))\n",
    "\n",
    "show(w[i])"
   ]
  },
  {
   "attachments": {},
   "cell_type": "markdown",
   "metadata": {},
   "source": [
    "### $$\\text{Calculo de } \\alpha_1 \\text{:}$$"
   ]
  },
  {
   "cell_type": "code",
   "execution_count": 5,
   "metadata": {},
   "outputs": [
    {
     "data": {
      "image/png": "[encoded data removed]",
      "text/latex": [
       "$\\displaystyle \\left[\\begin{matrix}0\\\\\\ddot{q_1}\\\\0\\end{matrix}\\right]$"
      ],
      "text/plain": [
       "⎡    0     ⎤\n",
       "⎢          ⎥\n",
       "⎢\\ddot{q_1}⎥\n",
       "⎢          ⎥\n",
       "⎣    0     ⎦"
      ]
     },
     "execution_count": 5,
     "metadata": {},
     "output_type": "execute_result"
    }
   ],
   "source": [
    "alpha.append(np.array((R[i-1][i].T@alpha[i-1]) + (b*qdd[i]) + np.cross(w[i].T, np.array(b*qd[i]).T).T))\n",
    "\n",
    "show(alpha[i])"
   ]
  },
  {
   "attachments": {},
   "cell_type": "markdown",
   "metadata": {},
   "source": [
    "### $$\\text{Calculo de } a_{c,1} \\text{:}$$"
   ]
  },
  {
   "cell_type": "code",
   "execution_count": 6,
   "metadata": {},
   "outputs": [
    {
     "data": {
      "image/png": "[encoded data removed]",
      "text/latex": [
       "$\\displaystyle \\left[\\begin{matrix}0\\\\0\\\\0\\end{matrix}\\right]$"
      ],
      "text/plain": [
       "⎡0⎤\n",
       "⎢ ⎥\n",
       "⎢0⎥\n",
       "⎢ ⎥\n",
       "⎣0⎦"
      ]
     },
     "execution_count": 6,
     "metadata": {},
     "output_type": "execute_result"
    }
   ],
   "source": [
    "ac.append(np.array((R[i-1][i].T@ae[i-1]) + np.cross(diff(Matrix(w[i]), t).T, r[i][i].T).T + np.cross(w[i].T, np.cross(w[i].T, r[i][i].T)).T))\n",
    "\n",
    "show(ac[i])"
   ]
  },
  {
   "attachments": {},
   "cell_type": "markdown",
   "metadata": {},
   "source": [
    "### $$\\text{Calculo de } a_{e,1} \\text{:}$$"
   ]
  },
  {
   "cell_type": "code",
   "execution_count": 7,
   "metadata": {},
   "outputs": [
    {
     "data": {
      "image/png": "[encoded data removed]",
      "text/latex": [
       "$\\displaystyle \\left[\\begin{matrix}0\\\\0\\\\0\\end{matrix}\\right]$"
      ],
      "text/plain": [
       "⎡0⎤\n",
       "⎢ ⎥\n",
       "⎢0⎥\n",
       "⎢ ⎥\n",
       "⎣0⎦"
      ]
     },
     "execution_count": 7,
     "metadata": {},
     "output_type": "execute_result"
    }
   ],
   "source": [
    "ae.append(np.array((R[i-1][i].T@ae[i-1]) + np.cross(diff(Matrix(w[i]), t).T, r[i][i+1].T).T + np.cross(w[i].T, np.cross(w[i].T, r[i][i+1].T)).T))\n",
    "\n",
    "show((R[i-1][i].T@ae[i-1]))"
   ]
  },
  {
   "attachments": {},
   "cell_type": "markdown",
   "metadata": {},
   "source": [
    "### $$\\text{Calculo de } g_1 \\text{:}$$"
   ]
  },
  {
   "cell_type": "code",
   "execution_count": 8,
   "metadata": {},
   "outputs": [
    {
     "data": {
      "image/png": "[encoded data removed]",
      "text/latex": [
       "$\\displaystyle \\left[\\begin{matrix}0\\\\- g\\\\0\\end{matrix}\\right]$"
      ],
      "text/plain": [
       "⎡0 ⎤\n",
       "⎢  ⎥\n",
       "⎢-g⎥\n",
       "⎢  ⎥\n",
       "⎣0 ⎦"
      ]
     },
     "execution_count": 8,
     "metadata": {},
     "output_type": "execute_result"
    }
   ],
   "source": [
    "gi.append(np.array(R[i-1][i].T@gi[i-1]))\n",
    "\n",
    "show(gi[i])"
   ]
  },
  {
   "attachments": {},
   "cell_type": "markdown",
   "metadata": {},
   "source": [
    "### $$\\text{Para } i = 2$$"
   ]
  },
  {
   "attachments": {},
   "cell_type": "markdown",
   "metadata": {},
   "source": [
    "### $$\\text{Calculo de } \\omega_2 \\text{:}$$"
   ]
  },
  {
   "cell_type": "code",
   "execution_count": 9,
   "metadata": {},
   "outputs": [
    {
     "data": {
      "image/png": "[encoded data removed]",
      "text/latex": [
       "$\\displaystyle \\left[\\begin{matrix}\\dot{q_1} s_{2}\\\\\\dot{q_1} c_{2}\\\\\\dot{q_2}\\end{matrix}\\right]$"
      ],
      "text/plain": [
       "⎡\\dot{q_1}⋅s₂⎤\n",
       "⎢            ⎥\n",
       "⎢\\dot{q_1}⋅c₂⎥\n",
       "⎢            ⎥\n",
       "⎣ \\dot{q_2}  ⎦"
      ]
     },
     "execution_count": 9,
     "metadata": {},
     "output_type": "execute_result"
    }
   ],
   "source": [
    "i = 2\n",
    "b = R[0][i].T@z[i-1]\n",
    "w.append(np.array((R[i-1][i].T@w[i-1])+(b*qd[i])))\n",
    "\n",
    "show(w[i])"
   ]
  },
  {
   "attachments": {},
   "cell_type": "markdown",
   "metadata": {},
   "source": [
    "### $$\\text{Calculo de } \\alpha_2 \\text{:}$$"
   ]
  },
  {
   "cell_type": "code",
   "execution_count": 10,
   "metadata": {},
   "outputs": [
    {
     "data": {
      "image/png": "[encoded data removed]",
      "text/latex": [
       "$\\displaystyle \\left[\\begin{matrix}\\ddot{q_1} s_{2} + \\dot{q_1} \\dot{q_2} c_{2}\\\\\\ddot{q_1} c_{2} - \\dot{q_1} \\dot{q_2} s_{2}\\\\\\ddot{q_2}\\end{matrix}\\right]$"
      ],
      "text/plain": [
       "⎡\\ddot{q_1}⋅s₂ + \\dot{q_1}⋅\\dot{q_2}⋅c₂⎤\n",
       "⎢                                      ⎥\n",
       "⎢\\ddot{q_1}⋅c₂ - \\dot{q_1}⋅\\dot{q_2}⋅s₂⎥\n",
       "⎢                                      ⎥\n",
       "⎣              \\ddot{q_2}              ⎦"
      ]
     },
     "execution_count": 10,
     "metadata": {},
     "output_type": "execute_result"
    }
   ],
   "source": [
    "alpha.append(np.array((R[i-1][i].T@alpha[i-1]) + (b*qdd[i]) + np.cross(w[i].T, np.array(b*qd[i]).T).T))\n",
    "\n",
    "show(alpha[i])"
   ]
  },
  {
   "attachments": {},
   "cell_type": "markdown",
   "metadata": {},
   "source": [
    "### $$\\text{Calculo de } a_{c,2} \\text{:}$$"
   ]
  },
  {
   "cell_type": "code",
   "execution_count": 11,
   "metadata": {},
   "outputs": [
    {
     "data": {
      "image/png": "[encoded data removed]",
      "text/latex": [
       "$\\displaystyle \\left[\\begin{matrix}- lc_{2} \\left(\\dot{q_1}^{2} c_{2}^{2} + \\dot{q_2}^{2}\\right)\\\\lc_{2} \\left(\\ddot{q_2} + \\frac{\\dot{q_1}^{2} \\sin{\\left(2 q_{2} \\right)}}{2}\\right)\\\\lc_{2} \\left(- \\ddot{q_1} c_{2} + 2 \\dot{q_1} \\dot{q_2} s_{2}\\right)\\end{matrix}\\right]$"
      ],
      "text/plain": [
       "⎡           ⎛         2   2            2⎞       ⎤\n",
       "⎢      -lc₂⋅⎝\\dot{q_1} ⋅c₂  + \\dot{q_2} ⎠       ⎥\n",
       "⎢                                               ⎥\n",
       "⎢        ⎛                      2          ⎞    ⎥\n",
       "⎢        ⎜             \\dot{q_1} ⋅sin(2⋅q₂)⎟    ⎥\n",
       "⎢    lc₂⋅⎜\\ddot{q_2} + ────────────────────⎟    ⎥\n",
       "⎢        ⎝                      2          ⎠    ⎥\n",
       "⎢                                               ⎥\n",
       "⎣lc₂⋅(-\\ddot{q_1}⋅c₂ + 2⋅\\dot{q_1}⋅\\dot{q_2}⋅s₂)⎦"
      ]
     },
     "execution_count": 11,
     "metadata": {},
     "output_type": "execute_result"
    }
   ],
   "source": [
    "ac.append(np.array((R[i-1][i].T@ae[i-1]) + np.cross(diff(Matrix(w[i]), t).T, r[i][i].T).T + np.cross(w[i].T, np.cross(w[i].T, r[i][i].T)).T))\n",
    "\n",
    "show(ac[i])"
   ]
  },
  {
   "attachments": {},
   "cell_type": "markdown",
   "metadata": {},
   "source": [
    "### $$\\text{Calculo de } a_{e,2} \\text{:}$$"
   ]
  },
  {
   "cell_type": "code",
   "execution_count": 12,
   "metadata": {},
   "outputs": [
    {
     "data": {
      "image/png": "[encoded data removed]",
      "text/latex": [
       "$\\displaystyle \\left[\\begin{matrix}- l_{2} \\left(\\dot{q_1}^{2} c_{2}^{2} + \\dot{q_2}^{2}\\right)\\\\l_{2} \\left(\\ddot{q_2} + \\frac{\\dot{q_1}^{2} \\sin{\\left(2 q_{2} \\right)}}{2}\\right)\\\\l_{2} \\left(- \\ddot{q_1} c_{2} + 2 \\dot{q_1} \\dot{q_2} s_{2}\\right)\\end{matrix}\\right]$"
      ],
      "text/plain": [
       "⎡          ⎛         2   2            2⎞       ⎤\n",
       "⎢      -l₂⋅⎝\\dot{q_1} ⋅c₂  + \\dot{q_2} ⎠       ⎥\n",
       "⎢                                              ⎥\n",
       "⎢       ⎛                      2          ⎞    ⎥\n",
       "⎢       ⎜             \\dot{q_1} ⋅sin(2⋅q₂)⎟    ⎥\n",
       "⎢    l₂⋅⎜\\ddot{q_2} + ────────────────────⎟    ⎥\n",
       "⎢       ⎝                      2          ⎠    ⎥\n",
       "⎢                                              ⎥\n",
       "⎣l₂⋅(-\\ddot{q_1}⋅c₂ + 2⋅\\dot{q_1}⋅\\dot{q_2}⋅s₂)⎦"
      ]
     },
     "execution_count": 12,
     "metadata": {},
     "output_type": "execute_result"
    }
   ],
   "source": [
    "ae.append(np.array((R[i-1][i].T@ae[i-1]) + np.cross(diff(Matrix(w[i]), t).T, r[i][i+1].T).T + np.cross(w[i].T, np.cross(w[i].T, r[i][i+1].T)).T))\n",
    "\n",
    "show(ae[i])"
   ]
  },
  {
   "attachments": {},
   "cell_type": "markdown",
   "metadata": {},
   "source": [
    "### $$\\text{Calculo de } g_2 \\text{:}$$"
   ]
  },
  {
   "cell_type": "code",
   "execution_count": 13,
   "metadata": {},
   "outputs": [
    {
     "data": {
      "image/png": "[encoded data removed]",
      "text/latex": [
       "$\\displaystyle \\left[\\begin{matrix}- g s_{2}\\\\- c_{2} g\\\\0\\end{matrix}\\right]$"
      ],
      "text/plain": [
       "⎡-g⋅s₂⎤\n",
       "⎢     ⎥\n",
       "⎢-c₂⋅g⎥\n",
       "⎢     ⎥\n",
       "⎣  0  ⎦"
      ]
     },
     "execution_count": 13,
     "metadata": {},
     "output_type": "execute_result"
    }
   ],
   "source": [
    "gi.append(np.array(R[i-1][i].T@gi[i-1]))\n",
    "\n",
    "show(gi[i])"
   ]
  },
  {
   "attachments": {},
   "cell_type": "markdown",
   "metadata": {},
   "source": [
    "<h1 align='center'> Recursão para trás: </h1>"
   ]
  },
  {
   "attachments": {},
   "cell_type": "markdown",
   "metadata": {},
   "source": [
    "### $$\\text{Para } i = 2$$"
   ]
  },
  {
   "attachments": {},
   "cell_type": "markdown",
   "metadata": {},
   "source": [
    "### $$\\text{Calculo de } f_2 \\text{:}$$"
   ]
  },
  {
   "cell_type": "code",
   "execution_count": 14,
   "metadata": {},
   "outputs": [
    {
     "data": {
      "image/png": "[encoded data removed]",
      "text/latex": [
       "$\\displaystyle \\left[\\begin{matrix}m_{2} \\left(g s_{2} - lc_{2} \\left(\\dot{q_1}^{2} c_{2}^{2} + \\dot{q_2}^{2}\\right)\\right)\\\\m_{2} \\left(c_{2} g + lc_{2} \\left(\\ddot{q_2} + \\frac{\\dot{q_1}^{2} \\sin{\\left(2 q_{2} \\right)}}{2}\\right)\\right)\\\\lc_{2} m_{2} \\left(- \\ddot{q_1} c_{2} + 2 \\dot{q_1} \\dot{q_2} s_{2}\\right)\\end{matrix}\\right]$"
      ],
      "text/plain": [
       "⎡      ⎛           ⎛         2   2            2⎞⎞   ⎤\n",
       "⎢   m₂⋅⎝g⋅s₂ - lc₂⋅⎝\\dot{q_1} ⋅c₂  + \\dot{q_2} ⎠⎠   ⎥\n",
       "⎢                                                   ⎥\n",
       "⎢   ⎛           ⎛                      2          ⎞⎞⎥\n",
       "⎢   ⎜           ⎜             \\dot{q_1} ⋅sin(2⋅q₂)⎟⎟⎥\n",
       "⎢m₂⋅⎜c₂⋅g + lc₂⋅⎜\\ddot{q_2} + ────────────────────⎟⎟⎥\n",
       "⎢   ⎝           ⎝                      2          ⎠⎠⎥\n",
       "⎢                                                   ⎥\n",
       "⎣lc₂⋅m₂⋅(-\\ddot{q_1}⋅c₂ + 2⋅\\dot{q_1}⋅\\dot{q_2}⋅s₂) ⎦"
      ]
     },
     "execution_count": 14,
     "metadata": {},
     "output_type": "execute_result"
    }
   ],
   "source": [
    "i = 2\n",
    "f[i] = np.array((m[i]*ac[i]) - (m[i]*gi[i]))\n",
    "\n",
    "show(f[i])"
   ]
  },
  {
   "attachments": {},
   "cell_type": "markdown",
   "metadata": {},
   "source": [
    "### $$\\text{Calculo de } \\tau_2 \\text{:}$$"
   ]
  },
  {
   "cell_type": "code",
   "execution_count": 15,
   "metadata": {},
   "outputs": [
    {
     "data": {
      "image/png": "[encoded data removed]",
      "text/latex": [
       "$\\displaystyle \\left[\\begin{matrix}I_{2} \\left(\\ddot{q_1} s_{2} + \\dot{q_1} \\dot{q_2} c_{2}\\right)\\\\I_{2} \\left(\\ddot{q_1} c_{2} - \\dot{q_1} \\dot{q_2} s_{2}\\right) + lc_{2}^{2} m_{2} \\left(- \\ddot{q_1} c_{2} + 2 \\dot{q_1} \\dot{q_2} s_{2}\\right)\\\\I_{2} \\ddot{q_2} - lc_{2} m_{2} \\left(c_{2} g + lc_{2} \\left(\\ddot{q_2} + \\frac{\\dot{q_1}^{2} \\sin{\\left(2 q_{2} \\right)}}{2}\\right)\\right)\\end{matrix}\\right]$"
      ],
      "text/plain": [
       "⎡                           I₂⋅(\\ddot{q_1}⋅s₂ + \\dot{q_1}⋅\\dot{q_2}⋅c₂)       \n",
       "⎢                                                                             \n",
       "⎢                                                 2                           \n",
       "⎢I₂⋅(\\ddot{q_1}⋅c₂ - \\dot{q_1}⋅\\dot{q_2}⋅s₂) + lc₂ ⋅m₂⋅(-\\ddot{q_1}⋅c₂ + 2⋅\\do\n",
       "⎢                                                                             \n",
       "⎢                                    ⎛           ⎛                      2     \n",
       "⎢                                    ⎜           ⎜             \\dot{q_1} ⋅sin(\n",
       "⎢             I₂⋅\\ddot{q_2} - lc₂⋅m₂⋅⎜c₂⋅g + lc₂⋅⎜\\ddot{q_2} + ───────────────\n",
       "⎣                                    ⎝           ⎝                      2     \n",
       "\n",
       "                    ⎤\n",
       "                    ⎥\n",
       "                    ⎥\n",
       "t{q_1}⋅\\dot{q_2}⋅s₂)⎥\n",
       "                    ⎥\n",
       "     ⎞⎞             ⎥\n",
       "2⋅q₂)⎟⎟             ⎥\n",
       "─────⎟⎟             ⎥\n",
       "     ⎠⎠             ⎦"
      ]
     },
     "execution_count": 15,
     "metadata": {},
     "output_type": "execute_result"
    }
   ],
   "source": [
    "tau[i] = np.array(np.cross(f[i].T, r[i][i].T).T + (I[i]*diff(Matrix(w[i]))) + np.cross(w[i].T, (I[i]*w[i]).T).T)\n",
    "\n",
    "show(tau[i])"
   ]
  },
  {
   "attachments": {},
   "cell_type": "markdown",
   "metadata": {},
   "source": [
    "### $$\\text{Para } i = 1$$"
   ]
  },
  {
   "attachments": {},
   "cell_type": "markdown",
   "metadata": {},
   "source": [
    "### $$\\text{Calculo de } f_1 \\text{:}$$"
   ]
  },
  {
   "cell_type": "code",
   "execution_count": 16,
   "metadata": {},
   "outputs": [
    {
     "data": {
      "image/png": "[encoded data removed]",
      "text/latex": [
       "$\\displaystyle \\left[\\begin{matrix}- lc_{2} m_{2} \\left(\\ddot{q_2} s_{2} + \\dot{q_1}^{2} c_{2} + \\dot{q_2}^{2} c_{2}\\right)\\\\\\ddot{q_2} c_{2} lc_{2} m_{2} - \\dot{q_2}^{2} lc_{2} m_{2} s_{2} + g m_{1} + g m_{2}\\\\lc_{2} m_{2} \\left(- \\ddot{q_1} c_{2} + 2 \\dot{q_1} \\dot{q_2} s_{2}\\right)\\end{matrix}\\right]$"
      ],
      "text/plain": [
       "⎡         ⎛                         2               2   ⎞ ⎤\n",
       "⎢ -lc₂⋅m₂⋅⎝\\ddot{q_2}⋅s₂ + \\dot{q_1} ⋅c₂ + \\dot{q_2} ⋅c₂⎠ ⎥\n",
       "⎢                                                         ⎥\n",
       "⎢                                2                        ⎥\n",
       "⎢\\ddot{q_2}⋅c₂⋅lc₂⋅m₂ - \\dot{q_2} ⋅lc₂⋅m₂⋅s₂ + g⋅m₁ + g⋅m₂⎥\n",
       "⎢                                                         ⎥\n",
       "⎣   lc₂⋅m₂⋅(-\\ddot{q_1}⋅c₂ + 2⋅\\dot{q_1}⋅\\dot{q_2}⋅s₂)    ⎦"
      ]
     },
     "execution_count": 16,
     "metadata": {},
     "output_type": "execute_result"
    }
   ],
   "source": [
    "i = 1\n",
    "f[i] = np.array((R[i][i+1]@f[i+1]) + (m[i]*ac[i]) - (m[i]*gi[i]))\n",
    "\n",
    "show(f[i])"
   ]
  },
  {
   "attachments": {},
   "cell_type": "markdown",
   "metadata": {},
   "source": [
    "### $$\\text{Calculo de } \\tau_1 \\text{:}$$"
   ]
  },
  {
   "cell_type": "code",
   "execution_count": 17,
   "metadata": {},
   "outputs": [
    {
     "data": {
      "image/png": "[encoded data removed]",
      "text/latex": [
       "$\\displaystyle \\left[\\begin{matrix}I_{2} \\dot{q_1} \\dot{q_2} + \\ddot{q_1} c_{2} l_{1} lc_{2} m_{2} - 2 \\ddot{q_1} c_{2} lc_{1} lc_{2} m_{2} + \\frac{\\ddot{q_1} lc_{2}^{2} m_{2} \\sin{\\left(2 q_{2} \\right)}}{2} - 2 \\dot{q_1} \\dot{q_2} l_{1} lc_{2} m_{2} s_{2} + 4 \\dot{q_1} \\dot{q_2} lc_{1} lc_{2} m_{2} s_{2} + \\dot{q_1} \\dot{q_2} lc_{2}^{2} m_{2} \\cos{\\left(2 q_{2} \\right)} - \\dot{q_1} \\dot{q_2} lc_{2}^{2} m_{2}\\\\I_{1} \\ddot{q_1} + I_{2} \\ddot{q_1} - \\frac{\\ddot{q_1} lc_{2}^{2} m_{2} \\cos{\\left(2 q_{2} \\right)}}{2} - \\frac{\\ddot{q_1} lc_{2}^{2} m_{2}}{2} + \\dot{q_1} \\dot{q_2} lc_{2}^{2} m_{2} \\sin{\\left(2 q_{2} \\right)}\\\\I_{2} \\ddot{q_2} + lc_{1} lc_{2} m_{2} \\left(\\ddot{q_2} s_{2} + \\dot{q_1}^{2} c_{2} + \\dot{q_2}^{2} c_{2}\\right) - lc_{2} m_{2} \\left(l_{1} - lc_{1}\\right) \\left(\\ddot{q_2} s_{2} + \\dot{q_1}^{2} c_{2} + \\dot{q_2}^{2} c_{2}\\right) - lc_{2} m_{2} \\left(c_{2} g + lc_{2} \\left(\\ddot{q_2} + \\frac{\\dot{q_1}^{2} \\sin{\\left(2 q_{2} \\right)}}{2}\\right)\\right)\\end{matrix}\\right]$"
      ],
      "text/plain": [
       "⎡                                                                             \n",
       "⎢                                                                             \n",
       "⎢I₂⋅\\dot{q_1}⋅\\dot{q_2} + \\ddot{q_1}⋅c₂⋅l₁⋅lc₂⋅m₂ - 2⋅\\ddot{q_1}⋅c₂⋅lc₁⋅lc₂⋅m₂\n",
       "⎢                                                                             \n",
       "⎢                                                                             \n",
       "⎢                                                                             \n",
       "⎢                                                                             \n",
       "⎢                                                                  I₁⋅\\ddot{q_\n",
       "⎢                                                                             \n",
       "⎢                                                                             \n",
       "⎢                                                                             \n",
       "⎢                                                     ⎛                       \n",
       "⎢                          I₂⋅\\ddot{q_2} + lc₁⋅lc₂⋅m₂⋅⎝\\ddot{q_2}⋅s₂ + \\dot{q_\n",
       "⎣                                                                             \n",
       "\n",
       "                 2                                                            \n",
       "   \\ddot{q_1}⋅lc₂ ⋅m₂⋅sin(2⋅q₂)                                               \n",
       " + ──────────────────────────── - 2⋅\\dot{q_1}⋅\\dot{q_2}⋅l₁⋅lc₂⋅m₂⋅s₂ + 4⋅\\dot{\n",
       "                2                                                             \n",
       "                                                                              \n",
       "                                   2                              2           \n",
       "                     \\ddot{q_1}⋅lc₂ ⋅m₂⋅cos(2⋅q₂)   \\ddot{q_1}⋅lc₂ ⋅m₂        \n",
       "1} + I₂⋅\\ddot{q_1} - ──────────────────────────── - ────────────────── + \\dot{\n",
       "                                  2                         2                 \n",
       "                                                                              \n",
       "                                                                              \n",
       "  2               2   ⎞                     ⎛                         2       \n",
       "1} ⋅c₂ + \\dot{q_2} ⋅c₂⎠ - lc₂⋅m₂⋅(l₁ - lc₁)⋅⎝\\ddot{q_2}⋅s₂ + \\dot{q_1} ⋅c₂ + \\\n",
       "                                                                              \n",
       "\n",
       "                                                                              \n",
       "                                                      2                       \n",
       "q_1}⋅\\dot{q_2}⋅lc₁⋅lc₂⋅m₂⋅s₂ + \\dot{q_1}⋅\\dot{q_2}⋅lc₂ ⋅m₂⋅cos(2⋅q₂) - \\dot{q_\n",
       "                                                                              \n",
       "                                                                              \n",
       "                                                                              \n",
       "                  2                                                           \n",
       "q_1}⋅\\dot{q_2}⋅lc₂ ⋅m₂⋅sin(2⋅q₂)                                              \n",
       "                                                                              \n",
       "                                                                              \n",
       "                       ⎛           ⎛                      2          ⎞⎞       \n",
       "        2   ⎞          ⎜           ⎜             \\dot{q_1} ⋅sin(2⋅q₂)⎟⎟       \n",
       "dot{q_2} ⋅c₂⎠ - lc₂⋅m₂⋅⎜c₂⋅g + lc₂⋅⎜\\ddot{q_2} + ────────────────────⎟⎟       \n",
       "                       ⎝           ⎝                      2          ⎠⎠       \n",
       "\n",
       "                    ⎤\n",
       "                2   ⎥\n",
       "1}⋅\\dot{q_2}⋅lc₂ ⋅m₂⎥\n",
       "                    ⎥\n",
       "                    ⎥\n",
       "                    ⎥\n",
       "                    ⎥\n",
       "                    ⎥\n",
       "                    ⎥\n",
       "                    ⎥\n",
       "                    ⎥\n",
       "                    ⎥\n",
       "                    ⎥\n",
       "                    ⎦"
      ]
     },
     "execution_count": 17,
     "metadata": {},
     "output_type": "execute_result"
    }
   ],
   "source": [
    "tau[i] = np.array((R[i][i+1]@tau[i+1]) - np.cross(f[i].T, r[i][i].T).T + np.cross((R[i][i+1]@f[i+1]).T, r[i+1][i].T).T + (I[i]*diff(Matrix(w[i]))) + np.cross(w[i].T, (I[i]*w[i]).T).T)\n",
    "\n",
    "show(tau[i])"
   ]
  }
 ],
 "metadata": {
  "kernelspec": {
   "display_name": "Python 3",
   "language": "python",
   "name": "python3"
  },
  "language_info": {
   "codemirror_mode": {
    "name": "ipython",
    "version": 3
   },
   "file_extension": ".py",
   "mimetype": "text/x-python",
   "name": "python",
   "nbconvert_exporter": "python",
   "pygments_lexer": "ipython3",
   "version": "3.11.0"
  },
  "orig_nbformat": 4
 },
 "nbformat": 4,
 "nbformat_minor": 2
}
