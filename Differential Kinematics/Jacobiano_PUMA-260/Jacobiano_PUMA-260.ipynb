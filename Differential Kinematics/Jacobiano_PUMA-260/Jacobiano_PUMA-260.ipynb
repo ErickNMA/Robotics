{
 "cells": [
  {
   "attachments": {},
   "cell_type": "markdown",
   "metadata": {},
   "source": [
    "<h1 align='center'>\n",
    "    Jacobiano do Manipulador PUMA 260\n",
    "<h1>"
   ]
  },
  {
   "attachments": {},
   "cell_type": "markdown",
   "metadata": {},
   "source": [
    "<div align=\"center\">\n",
    "    <img src=\"puma260.png\">\n",
    "</div>"
   ]
  },
  {
   "cell_type": "code",
   "execution_count": 1,
   "metadata": {},
   "outputs": [],
   "source": [
    "import numpy as np\n",
    "from FKM import *"
   ]
  },
  {
   "attachments": {},
   "cell_type": "markdown",
   "metadata": {},
   "source": [
    "### Definição da Tabela de Denavit Hartenberg:"
   ]
  },
  {
   "cell_type": "code",
   "execution_count": 2,
   "metadata": {},
   "outputs": [],
   "source": [
    "puma = Robot((\n",
    "    [theta1, 13, 0, rad(-90)],\n",
    "    [theta2, d1, 8, 0],\n",
    "    [theta3+rad(90), 0, 0, rad(90)],\n",
    "    [theta4, 8, 0, rad(-90)],\n",
    "    [theta5-rad(90), 0, 0, rad(90)],\n",
    "    [theta6, d2, 0, 0]\n",
    "))"
   ]
  },
  {
   "attachments": {},
   "cell_type": "markdown",
   "metadata": {},
   "source": [
    "### $$\\text{Obtenção de } o_i^0 \\text{ :}$$"
   ]
  },
  {
   "cell_type": "code",
   "execution_count": 8,
   "metadata": {},
   "outputs": [
    {
     "data": {
      "text/latex": [
       "$\\displaystyle \\left[ \\left[\\begin{matrix}0\\\\0\\\\0\\end{matrix}\\right], \\  \\left[\\begin{matrix}0\\\\0\\\\13\\end{matrix}\\right], \\  \\left[\\begin{matrix}8 c_{1} c_{2} - d₁ s_{1}\\\\c_{1} d₁ + 8 c_{2} s_{1}\\\\13 - 8 s_{2}\\end{matrix}\\right], \\  \\left[\\begin{matrix}8 c_{1} c_{2} - d₁ s_{1}\\\\c_{1} d₁ + 8 c_{2} s_{1}\\\\13 - 8 s_{2}\\end{matrix}\\right], \\  \\left[\\begin{matrix}8 c_{1} c_{2} + 8 c_{1} c_{23} - d₁ s_{1}\\\\c_{1} d₁ + 8 c_{2} s_{1} + 8 c_{23} s_{1}\\\\- 8 s_{2} - 8 s_{23} + 13\\end{matrix}\\right], \\  \\left[\\begin{matrix}8 c_{1} c_{2} + 8 c_{1} c_{23} - d₁ s_{1}\\\\c_{1} d₁ + 8 c_{2} s_{1} + 8 c_{23} s_{1}\\\\- 8 s_{2} - 8 s_{23} + 13\\end{matrix}\\right], \\  \\left[\\begin{matrix}8 c_{1} c_{2} + 8 c_{1} c_{23} - d₁ s_{1}\\\\c_{1} d₁ + 8 c_{2} s_{1} + 8 c_{23} s_{1}\\\\- 8 s_{2} - 8 s_{23} + 13\\end{matrix}\\right]\\right]$"
      ],
      "text/plain": [
       "⎡⎡0⎤  ⎡0 ⎤  ⎡8⋅c₁⋅c₂ - d₁⋅s₁⎤  ⎡8⋅c₁⋅c₂ - d₁⋅s₁⎤  ⎡8⋅c₁⋅c₂ + 8⋅c₁⋅c₂₃ - d₁⋅s₁⎤\n",
       "⎢⎢ ⎥  ⎢  ⎥  ⎢               ⎥  ⎢               ⎥  ⎢                          ⎥\n",
       "⎢⎢0⎥, ⎢0 ⎥, ⎢c₁⋅d₁ + 8⋅c₂⋅s₁⎥, ⎢c₁⋅d₁ + 8⋅c₂⋅s₁⎥, ⎢c₁⋅d₁ + 8⋅c₂⋅s₁ + 8⋅c₂₃⋅s₁⎥\n",
       "⎢⎢ ⎥  ⎢  ⎥  ⎢               ⎥  ⎢               ⎥  ⎢                          ⎥\n",
       "⎣⎣0⎦  ⎣13⎦  ⎣   13 - 8⋅s₂   ⎦  ⎣   13 - 8⋅s₂   ⎦  ⎣    -8⋅s₂ - 8⋅s₂₃ + 13    ⎦\n",
       "\n",
       "  ⎡8⋅c₁⋅c₂ + 8⋅c₁⋅c₂₃ - d₁⋅s₁⎤  ⎡8⋅c₁⋅c₂ + 8⋅c₁⋅c₂₃ - d₁⋅s₁⎤⎤\n",
       "  ⎢                          ⎥  ⎢                          ⎥⎥\n",
       ", ⎢c₁⋅d₁ + 8⋅c₂⋅s₁ + 8⋅c₂₃⋅s₁⎥, ⎢c₁⋅d₁ + 8⋅c₂⋅s₁ + 8⋅c₂₃⋅s₁⎥⎥\n",
       "  ⎢                          ⎥  ⎢                          ⎥⎥\n",
       "  ⎣    -8⋅s₂ - 8⋅s₂₃ + 13    ⎦  ⎣    -8⋅s₂ - 8⋅s₂₃ + 13    ⎦⎦"
      ]
     },
     "execution_count": 8,
     "metadata": {},
     "output_type": "execute_result"
    }
   ],
   "source": [
    "n = len(puma.T) #número de juntas\n",
    "\n",
    "o = [Matrix([[0], [0], [0]])]\n",
    "for i in range(1, n+1):\n",
    "    o.append(puma.HTM(0, i)[:3, 3])\n",
    "\n",
    "o"
   ]
  },
  {
   "attachments": {},
   "cell_type": "markdown",
   "metadata": {},
   "source": [
    "### $$\\text{Obtenção de } Z_{i-1}^0 = R_{i-1}^0k \\text{ :}$$"
   ]
  },
  {
   "cell_type": "code",
   "execution_count": 9,
   "metadata": {},
   "outputs": [
    {
     "data": {
      "image/png": "[encoded data removed]",
      "text/latex": [
       "$\\displaystyle \\left[ \\left[\\begin{matrix}0\\\\0\\\\1\\end{matrix}\\right], \\  \\left[\\begin{matrix}- s_{1}\\\\c_{1}\\\\0\\end{matrix}\\right], \\  \\left[\\begin{matrix}- s_{1}\\\\c_{1}\\\\0\\end{matrix}\\right], \\  \\left[\\begin{matrix}c_{1} c_{23}\\\\c_{23} s_{1}\\\\- s_{23}\\end{matrix}\\right], \\  \\left[\\begin{matrix}c_{1} s_{23} s_{4} - c_{4} s_{1}\\\\c_{1} c_{4} + s_{1} s_{23} s_{4}\\\\c_{23} s_{4}\\end{matrix}\\right], \\  \\left[\\begin{matrix}c_{1} c_{23} s_{5} + c_{5} \\left(c_{1} c_{4} s_{23} + s_{1} s_{4}\\right)\\\\c_{23} s_{1} s_{5} + c_{5} \\left(- c_{1} s_{4} + c_{4} s_{1} s_{23}\\right)\\\\c_{23} c_{4} c_{5} - s_{23} s_{5}\\end{matrix}\\right]\\right]$"
      ],
      "text/plain": [
       "⎡⎡0⎤  ⎡-s₁⎤  ⎡-s₁⎤  ⎡c₁⋅c₂₃⎤  ⎡c₁⋅s₂₃⋅s₄ - c₄⋅s₁⎤  ⎡c₁⋅c₂₃⋅s₅ + c₅⋅(c₁⋅c₄⋅s₂₃ \n",
       "⎢⎢ ⎥  ⎢   ⎥  ⎢   ⎥  ⎢      ⎥  ⎢                 ⎥  ⎢                          \n",
       "⎢⎢0⎥, ⎢c₁ ⎥, ⎢c₁ ⎥, ⎢c₂₃⋅s₁⎥, ⎢c₁⋅c₄ + s₁⋅s₂₃⋅s₄⎥, ⎢c₂₃⋅s₁⋅s₅ + c₅⋅(-c₁⋅s₄ + c\n",
       "⎢⎢ ⎥  ⎢   ⎥  ⎢   ⎥  ⎢      ⎥  ⎢                 ⎥  ⎢                          \n",
       "⎣⎣1⎦  ⎣ 0 ⎦  ⎣ 0 ⎦  ⎣ -s₂₃ ⎦  ⎣     c₂₃⋅s₄      ⎦  ⎣        c₂₃⋅c₄⋅c₅ - s₂₃⋅s₅\n",
       "\n",
       "+ s₁⋅s₄) ⎤⎤\n",
       "         ⎥⎥\n",
       "₄⋅s₁⋅s₂₃)⎥⎥\n",
       "         ⎥⎥\n",
       "         ⎦⎦"
      ]
     },
     "execution_count": 9,
     "metadata": {},
     "output_type": "execute_result"
    }
   ],
   "source": [
    "z = [Matrix([[0], [0], [1]])]\n",
    "for i in range(1, n):\n",
    "    z.append(puma.HTM(0, i)[:3, 2])\n",
    "\n",
    "z"
   ]
  },
  {
   "attachments": {},
   "cell_type": "markdown",
   "metadata": {},
   "source": [
    "### $$\\text{Obtenção do Jacobiano de velocidades lineares } J_{v_i} = z_{i-1}^0 \\times \\left( o_n^0 - o_{i-1}^0 \\right) \\text{ :}$$"
   ]
  },
  {
   "cell_type": "code",
   "execution_count": 28,
   "metadata": {},
   "outputs": [
    {
     "data": {
      "text/latex": [
       "$\\displaystyle \\left[ \\left[\\begin{matrix}- c_{1} d₁ - 8 c_{2} s_{1} - 8 c_{23} s_{1}\\\\8 c_{1} c_{2} + 8 c_{1} c_{23} - d₁ s_{1}\\\\0\\end{matrix}\\right], \\  \\left[\\begin{matrix}c_{1} \\left(- 8 s_{2} - 8 s_{23}\\right)\\\\s_{1} \\left(- 8 s_{2} - 8 s_{23}\\right)\\\\- c_{1} \\cdot \\left(8 c_{1} c_{2} + 8 c_{1} c_{23} - d₁ s_{1}\\right) - s_{1} \\left(c_{1} d₁ + 8 c_{2} s_{1} + 8 c_{23} s_{1}\\right)\\end{matrix}\\right], \\  \\left[\\begin{matrix}- 8 c_{1} s_{23}\\\\- 8 s_{1} s_{23}\\\\- 8 c_{1}^{2} c_{23} - 8 c_{23} s_{1}^{2}\\end{matrix}\\right], \\  \\left[\\begin{matrix}0\\\\0\\\\0\\end{matrix}\\right], \\  \\left[\\begin{matrix}0\\\\0\\\\0\\end{matrix}\\right], \\  \\left[\\begin{matrix}0\\\\0\\\\0\\end{matrix}\\right]\\right]$"
      ],
      "text/plain": [
       "⎡                                                                             \n",
       "⎢⎡-c₁⋅d₁ - 8⋅c₂⋅s₁ - 8⋅c₂₃⋅s₁⎤  ⎡                        c₁⋅(-8⋅s₂ - 8⋅s₂₃)   \n",
       "⎢⎢                           ⎥  ⎢                                             \n",
       "⎢⎢8⋅c₁⋅c₂ + 8⋅c₁⋅c₂₃ - d₁⋅s₁ ⎥, ⎢                        s₁⋅(-8⋅s₂ - 8⋅s₂₃)   \n",
       "⎢⎢                           ⎥  ⎢                                             \n",
       "⎣⎣             0             ⎦  ⎣-c₁⋅(8⋅c₁⋅c₂ + 8⋅c₁⋅c₂₃ - d₁⋅s₁) - s₁⋅(c₁⋅d₁ \n",
       "\n",
       "                        ⎡       -8⋅c₁⋅s₂₃       ⎤               ⎤\n",
       "                     ⎤  ⎢                       ⎥  ⎡0⎤  ⎡0⎤  ⎡0⎤⎥\n",
       "                     ⎥  ⎢       -8⋅s₁⋅s₂₃       ⎥  ⎢ ⎥  ⎢ ⎥  ⎢ ⎥⎥\n",
       "                     ⎥, ⎢                       ⎥, ⎢0⎥, ⎢0⎥, ⎢0⎥⎥\n",
       "                     ⎥  ⎢      2               2⎥  ⎢ ⎥  ⎢ ⎥  ⎢ ⎥⎥\n",
       "+ 8⋅c₂⋅s₁ + 8⋅c₂₃⋅s₁)⎦  ⎣- 8⋅c₁ ⋅c₂₃ - 8⋅c₂₃⋅s₁ ⎦  ⎣0⎦  ⎣0⎦  ⎣0⎦⎦"
      ]
     },
     "execution_count": 28,
     "metadata": {},
     "output_type": "execute_result"
    }
   ],
   "source": [
    "jv = []\n",
    "for i in range(1, n+1):\n",
    "    jv.append(Matrix(np.cross(np.squeeze(z[i-1]), np.squeeze(o[-1] - o[i-1])).tolist()))\n",
    "\n",
    "jv"
   ]
  },
  {
   "attachments": {},
   "cell_type": "markdown",
   "metadata": {},
   "source": [
    "### $$\\text{Obtenção do Jacobiano de velocidades angulares } J_{\\omega_i} = z_{i-1}^0 \\text{ :}$$"
   ]
  },
  {
   "cell_type": "code",
   "execution_count": 31,
   "metadata": {},
   "outputs": [
    {
     "data": {
      "image/png": "[encoded data removed]",
      "text/latex": [
       "$\\displaystyle \\left[ \\left[\\begin{matrix}0\\\\0\\\\1\\end{matrix}\\right], \\  \\left[\\begin{matrix}- s_{1}\\\\c_{1}\\\\0\\end{matrix}\\right], \\  \\left[\\begin{matrix}- s_{1}\\\\c_{1}\\\\0\\end{matrix}\\right], \\  \\left[\\begin{matrix}c_{1} c_{23}\\\\c_{23} s_{1}\\\\- s_{23}\\end{matrix}\\right], \\  \\left[\\begin{matrix}c_{1} s_{23} s_{4} - c_{4} s_{1}\\\\c_{1} c_{4} + s_{1} s_{23} s_{4}\\\\c_{23} s_{4}\\end{matrix}\\right], \\  \\left[\\begin{matrix}c_{1} c_{23} s_{5} + c_{5} \\left(c_{1} c_{4} s_{23} + s_{1} s_{4}\\right)\\\\c_{23} s_{1} s_{5} + c_{5} \\left(- c_{1} s_{4} + c_{4} s_{1} s_{23}\\right)\\\\c_{23} c_{4} c_{5} - s_{23} s_{5}\\end{matrix}\\right]\\right]$"
      ],
      "text/plain": [
       "⎡⎡0⎤  ⎡-s₁⎤  ⎡-s₁⎤  ⎡c₁⋅c₂₃⎤  ⎡c₁⋅s₂₃⋅s₄ - c₄⋅s₁⎤  ⎡c₁⋅c₂₃⋅s₅ + c₅⋅(c₁⋅c₄⋅s₂₃ \n",
       "⎢⎢ ⎥  ⎢   ⎥  ⎢   ⎥  ⎢      ⎥  ⎢                 ⎥  ⎢                          \n",
       "⎢⎢0⎥, ⎢c₁ ⎥, ⎢c₁ ⎥, ⎢c₂₃⋅s₁⎥, ⎢c₁⋅c₄ + s₁⋅s₂₃⋅s₄⎥, ⎢c₂₃⋅s₁⋅s₅ + c₅⋅(-c₁⋅s₄ + c\n",
       "⎢⎢ ⎥  ⎢   ⎥  ⎢   ⎥  ⎢      ⎥  ⎢                 ⎥  ⎢                          \n",
       "⎣⎣1⎦  ⎣ 0 ⎦  ⎣ 0 ⎦  ⎣ -s₂₃ ⎦  ⎣     c₂₃⋅s₄      ⎦  ⎣        c₂₃⋅c₄⋅c₅ - s₂₃⋅s₅\n",
       "\n",
       "+ s₁⋅s₄) ⎤⎤\n",
       "         ⎥⎥\n",
       "₄⋅s₁⋅s₂₃)⎥⎥\n",
       "         ⎥⎥\n",
       "         ⎦⎦"
      ]
     },
     "execution_count": 31,
     "metadata": {},
     "output_type": "execute_result"
    }
   ],
   "source": [
    "jw = []\n",
    "for i in range(1, n+1):\n",
    "    jw.append(z[i-1])\n",
    "\n",
    "jw"
   ]
  },
  {
   "attachments": {},
   "cell_type": "markdown",
   "metadata": {},
   "source": [
    "### $$\\text{Obtenção do Jacobiano de velocidades completo, tal que } \\xi = J(q)\\dot{q} \\text{ :}$$"
   ]
  },
  {
   "cell_type": "code",
   "execution_count": 49,
   "metadata": {},
   "outputs": [
    {
     "data": {
      "text/latex": [
       "$\\displaystyle \\left[\\begin{matrix}- c_{1} d₁ - 8 c_{2} s_{1} - 8 c_{23} s_{1} & c_{1} \\left(- 8 s_{2} - 8 s_{23}\\right) & - 8 c_{1} s_{23} & 0 & 0 & 0\\\\8 c_{1} c_{2} + 8 c_{1} c_{23} - d₁ s_{1} & s_{1} \\left(- 8 s_{2} - 8 s_{23}\\right) & - 8 s_{1} s_{23} & 0 & 0 & 0\\\\0 & - c_{1} \\cdot \\left(8 c_{1} c_{2} + 8 c_{1} c_{23} - d₁ s_{1}\\right) - s_{1} \\left(c_{1} d₁ + 8 c_{2} s_{1} + 8 c_{23} s_{1}\\right) & - 8 c_{1}^{2} c_{23} - 8 c_{23} s_{1}^{2} & 0 & 0 & 0\\\\0 & - s_{1} & - s_{1} & c_{1} c_{23} & c_{1} s_{23} s_{4} - c_{4} s_{1} & c_{1} c_{23} s_{5} + c_{5} \\left(c_{1} c_{4} s_{23} + s_{1} s_{4}\\right)\\\\0 & c_{1} & c_{1} & c_{23} s_{1} & c_{1} c_{4} + s_{1} s_{23} s_{4} & c_{23} s_{1} s_{5} + c_{5} \\left(- c_{1} s_{4} + c_{4} s_{1} s_{23}\\right)\\\\1 & 0 & 0 & - s_{23} & c_{23} s_{4} & c_{23} c_{4} c_{5} - s_{23} s_{5}\\end{matrix}\\right]$"
      ],
      "text/plain": [
       "⎡-c₁⋅d₁ - 8⋅c₂⋅s₁ - 8⋅c₂₃⋅s₁                          c₁⋅(-8⋅s₂ - 8⋅s₂₃)      \n",
       "⎢                                                                             \n",
       "⎢8⋅c₁⋅c₂ + 8⋅c₁⋅c₂₃ - d₁⋅s₁                           s₁⋅(-8⋅s₂ - 8⋅s₂₃)      \n",
       "⎢                                                                             \n",
       "⎢                                                                             \n",
       "⎢             0               -c₁⋅(8⋅c₁⋅c₂ + 8⋅c₁⋅c₂₃ - d₁⋅s₁) - s₁⋅(c₁⋅d₁ + 8\n",
       "⎢                                                                             \n",
       "⎢             0                                              -s₁              \n",
       "⎢                                                                             \n",
       "⎢             0                                               c₁              \n",
       "⎢                                                                             \n",
       "⎣             1                                               0               \n",
       "\n",
       "                           -8⋅c₁⋅s₂₃           0             0                \n",
       "                                                                              \n",
       "                           -8⋅s₁⋅s₂₃           0             0                \n",
       "                                                                              \n",
       "                          2               2                                   \n",
       "⋅c₂⋅s₁ + 8⋅c₂₃⋅s₁)  - 8⋅c₁ ⋅c₂₃ - 8⋅c₂₃⋅s₁     0             0                \n",
       "                                                                              \n",
       "                              -s₁            c₁⋅c₂₃  c₁⋅s₂₃⋅s₄ - c₄⋅s₁  c₁⋅c₂₃\n",
       "                                                                              \n",
       "                              c₁             c₂₃⋅s₁  c₁⋅c₄ + s₁⋅s₂₃⋅s₄  c₂₃⋅s₁\n",
       "                                                                              \n",
       "                               0              -s₂₃        c₂₃⋅s₄              \n",
       "\n",
       "           0                 ⎤\n",
       "                             ⎥\n",
       "           0                 ⎥\n",
       "                             ⎥\n",
       "                             ⎥\n",
       "           0                 ⎥\n",
       "                             ⎥\n",
       "⋅s₅ + c₅⋅(c₁⋅c₄⋅s₂₃ + s₁⋅s₄) ⎥\n",
       "                             ⎥\n",
       "⋅s₅ + c₅⋅(-c₁⋅s₄ + c₄⋅s₁⋅s₂₃)⎥\n",
       "                             ⎥\n",
       "  c₂₃⋅c₄⋅c₅ - s₂₃⋅s₅         ⎦"
      ]
     },
     "execution_count": 49,
     "metadata": {},
     "output_type": "execute_result"
    }
   ],
   "source": [
    "J = []\n",
    "for k in range(3):\n",
    "    J.append([])\n",
    "    for i in range(n):\n",
    "        J[k].append(jv[i][k])\n",
    "for k in range(3):\n",
    "    J.append([])\n",
    "    for i in range(n):\n",
    "        J[k+3].append(jw[i][k])\n",
    "\n",
    "Matrix(J)"
   ]
  }
 ],
 "metadata": {
  "kernelspec": {
   "display_name": "Python 3",
   "language": "python",
   "name": "python3"
  },
  "language_info": {
   "codemirror_mode": {
    "name": "ipython",
    "version": 3
   },
   "file_extension": ".py",
   "mimetype": "text/x-python",
   "name": "python",
   "nbconvert_exporter": "python",
   "pygments_lexer": "ipython3",
   "version": "3.11.0"
  },
  "orig_nbformat": 4
 },
 "nbformat": 4,
 "nbformat_minor": 2
}
